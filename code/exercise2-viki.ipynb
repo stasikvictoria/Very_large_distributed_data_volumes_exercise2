{
 "cells": [
  {
   "cell_type": "markdown",
   "metadata": {},
   "source": [
    "# Installing requirements"
   ]
  },
  {
   "cell_type": "code",
   "execution_count": 1,
   "metadata": {},
   "outputs": [],
   "source": [
    "from tabulate import tabulate\n",
    "import mysql.connector as mysql\n",
    "from datetime import datetime\n",
    "import os\n",
    "import pandas as pd"
   ]
  },
  {
   "cell_type": "code",
   "execution_count": 2,
   "metadata": {},
   "outputs": [],
   "source": [
    "os.chdir(\"..\")"
   ]
  },
  {
   "cell_type": "code",
   "execution_count": 3,
   "metadata": {},
   "outputs": [
    {
     "data": {
      "text/plain": [
       "'c:\\\\Users\\\\sarac\\\\OneDrive - Università degli Studi di Milano\\\\[erasmus]\\\\[COURSES]\\\\[DB]\\\\assignments\\\\assignment2\\\\GITHUB\\\\Very_large_distributed_data_volumes_exercise2'"
      ]
     },
     "execution_count": 3,
     "metadata": {},
     "output_type": "execute_result"
    }
   ],
   "source": [
    "os.getcwd()"
   ]
  },
  {
   "cell_type": "code",
   "execution_count": 4,
   "metadata": {},
   "outputs": [],
   "source": [
    "#path = os.getcwd()\n",
    "#os.chdir(path+\"/code\")"
   ]
  },
  {
   "cell_type": "code",
   "execution_count": 5,
   "metadata": {},
   "outputs": [],
   "source": [
    "#os.getcwd()"
   ]
  },
  {
   "cell_type": "code",
   "execution_count": 6,
   "metadata": {},
   "outputs": [],
   "source": [
    "#%pip install -r requirements.txt"
   ]
  },
  {
   "cell_type": "code",
   "execution_count": 7,
   "metadata": {},
   "outputs": [],
   "source": [
    "#os.chdir(\"..\")\n",
    "#os.getcwd()"
   ]
  },
  {
   "cell_type": "markdown",
   "metadata": {},
   "source": [
    "# Class DBConnector"
   ]
  },
  {
   "cell_type": "code",
   "execution_count": 8,
   "metadata": {},
   "outputs": [],
   "source": [
    "class DbConnector:\n",
    "    \"\"\"\n",
    "    Connects to the MySQL server on the Ubuntu virtual machine.\n",
    "    Connector needs HOST, DATABASE, USER and PASSWORD to connect,\n",
    "    while PORT is optional and should be 3306.\n",
    "\n",
    "    Example:\n",
    "    HOST = \"tdt4225-00.idi.ntnu.no\" // Your server IP address/domain name\n",
    "    DATABASE = \"testdb\" // Database name, if you just want to connect to MySQL server, leave it empty\n",
    "    USER = \"testuser\" // This is the user you created and added privileges for\n",
    "    PASSWORD = \"test123\" // The password you set for said user\n",
    "    \"\"\"\n",
    "\n",
    "    def __init__(self,\n",
    "                 HOST=\"tdt4225-19.idi.ntnu.no\",\n",
    "                 DATABASE=\"db_19\",\n",
    "                 USER=\"team19\",\n",
    "                 PASSWORD=\"team19*\"):\n",
    "        # Connect to the database\n",
    "        try:\n",
    "            self.db_connection = mysql.connect(host=HOST, database=DATABASE, user=USER, password=PASSWORD, port=3306)\n",
    "        except Exception as e:\n",
    "            print(\"ERROR: Failed to connect to db:\", e)\n",
    "\n",
    "        # Get the db cursor\n",
    "        self.cursor = self.db_connection.cursor()\n",
    "\n",
    "        print(\"Connected to:\", self.db_connection.get_server_info())\n",
    "        # get database information\n",
    "        self.cursor.execute(\"select database();\")\n",
    "        database_name = self.cursor.fetchone()\n",
    "        print(\"You are connected to the database:\", database_name)\n",
    "        print(\"-----------------------------------------------\\n\")\n",
    "\n",
    "    def close_connection(self):\n",
    "        # close the cursor\n",
    "        self.cursor.close()\n",
    "        # close the DB connection\n",
    "        self.db_connection.close()\n",
    "        print(\"\\n-----------------------------------------------\")\n",
    "        print(\"Connection to %s is closed\" % self.db_connection.get_server_info())\n"
   ]
  },
  {
   "cell_type": "markdown",
   "metadata": {},
   "source": [
    "# Task 1"
   ]
  },
  {
   "cell_type": "code",
   "execution_count": 9,
   "metadata": {},
   "outputs": [
    {
     "name": "stdout",
     "output_type": "stream",
     "text": [
      "c:\\Users\\sarac\\OneDrive - Università degli Studi di Milano\\[erasmus]\\[COURSES]\\[DB]\\assignments\\assignment2\\GITHUB\\Very_large_distributed_data_volumes_exercise2\\dataset\\dataset\\Data\n"
     ]
    }
   ],
   "source": [
    "# we go to the Data folder\n",
    "path = os.getcwd()\n",
    "os.chdir(path+\"/dataset/dataset/Data\")\n",
    "print(os.getcwd())"
   ]
  },
  {
   "cell_type": "code",
   "execution_count": 10,
   "metadata": {},
   "outputs": [],
   "source": [
    "def get_info_from_labels_txt_file() :\n",
    "    user_id_list = []\n",
    "    transportation_mode_list = []\n",
    "    start_date_time_list = []\n",
    "    end_date_time_list = []\n",
    "\n",
    "    for dirpath, dirnames, filenames in os.walk(os.getcwd()):\n",
    "        for filename in filenames:\n",
    "            # if there is a labels.txt file, we save the info\n",
    "            if filename.endswith('.txt'):\n",
    "                try :\n",
    "                    with open(os.path.join(dirpath, filename)) as f:\n",
    "                        lines = f.readlines()\n",
    "\n",
    "                        # skip the header\n",
    "                        lines = lines[1:]\n",
    "\n",
    "                        for line in lines:\n",
    "                            \n",
    "                            # we get the info of one line\n",
    "                            data = line.split()\n",
    "\n",
    "                            # we save each information into the correct list\n",
    "                            last_directory_name = os.path.basename(dirpath)\n",
    "                            user_id_list.append(last_directory_name)\n",
    "\n",
    "                            transportation_mode_list.append(data[4])\n",
    "\n",
    "                            start_date = data[0]\n",
    "                            start_time = data[1]\n",
    "                            end_date = data[2]\n",
    "                            end_time = data[3]\n",
    "                            start_datetime_str = start_date + \" \" + start_time\n",
    "                            end_datetime_str = end_date + \" \" + end_time\n",
    "                            start_datetime_str = start_datetime_str.replace('/', '-')\n",
    "                            end_datetime_str = end_datetime_str.replace('/', '-')\n",
    "                            combined_start_datetime = datetime.strptime(start_datetime_str, \"%Y-%m-%d %H:%M:%S\")\n",
    "                            combined_end_datetime = datetime.strptime(end_datetime_str, \"%Y-%m-%d %H:%M:%S\")\n",
    "\n",
    "                            start_date_time_list.append(combined_start_datetime)\n",
    "                            end_date_time_list.append(combined_end_datetime)\n",
    "                    f.close()\n",
    "\n",
    "                # error handling\n",
    "                except FileNotFoundError:\n",
    "                    print(f\"the file {filename} doesn't exist.\")\n",
    "                except Exception as e:\n",
    "                    print(f\"Error: {e}\")\n",
    "\n",
    "    return user_id_list, transportation_mode_list, start_date_time_list, end_date_time_list"
   ]
  },
  {
   "cell_type": "code",
   "execution_count": 11,
   "metadata": {},
   "outputs": [],
   "source": [
    "def get_info_from_plt_file() :\n",
    "    activity = 0\n",
    "    activity_id_list = []\n",
    "    user_id_list = []\n",
    "    lat_list = []\n",
    "    long_list = []\n",
    "    altitude_list = []\n",
    "    date_days_list = []\n",
    "    current_date_time_list = []\n",
    "    start_date_time_list = []\n",
    "    end_date_time_list = []\n",
    "\n",
    "    for dirpath, dirnames, filenames in os.walk(os.getcwd()):\n",
    "        for filename in filenames:\n",
    "\n",
    "            # we get the information of each plt file\n",
    "            if filename.endswith('.plt'):\n",
    "                try :\n",
    "                    with open(os.path.join(dirpath, filename)) as f:\n",
    "                        lines = f.readlines()\n",
    "\n",
    "                        # skip the first 6 lines\n",
    "                        lines = lines[6:]\n",
    "\n",
    "                        # check the length of the plt file\n",
    "                        if len(lines) <= 2500:\n",
    "\n",
    "                            # we get the start and end date of each plt file\n",
    "                            start_line= lines[0].split(',')\n",
    "                            start_date = start_line[5]\n",
    "                            start_time = start_line[6]\n",
    "                            start_datetime = start_date + ' ' + start_time\n",
    "                            start_datetime = start_datetime.rstrip('\\n')\n",
    "                            start_datetime = datetime.strptime(start_datetime, \"%Y-%m-%d %H:%M:%S\")\n",
    "\n",
    "                            end_line = lines[len(lines)-1].split(',')\n",
    "                            end_date = end_line[5]\n",
    "                            end_time = end_line[6]\n",
    "                            end_datetime = end_date + ' ' + end_time\n",
    "                            end_datetime = end_datetime.rstrip('\\n')\n",
    "                            end_datetime = datetime.strptime(end_datetime, \"%Y-%m-%d %H:%M:%S\")\n",
    "    \n",
    "                            # we save the information of each line of the plt file\n",
    "                            for line in lines:\n",
    "\n",
    "                                data = line.split(',')\n",
    "\n",
    "                                activity_id_list.append(activity)\n",
    "\n",
    "                                parent_directory = os.path.dirname(dirpath)\n",
    "                                directory_name = os.path.basename(parent_directory) \n",
    "                                user_id_list.append(directory_name)\n",
    "\n",
    "                                lat_list.append(float(data[0]))\n",
    "                                long_list.append(float(data[1]))\n",
    "                                altitude_list.append(int(float(data[3])))\n",
    "                                date_days_list.append(float(data[4]))\n",
    "\n",
    "                                date = data[5]\n",
    "                                time = data[6]\n",
    "                                datetime_draft = date + ' ' + time\n",
    "                                datetime_draft = datetime_draft.rstrip('\\n')\n",
    "                                combined_datetime = datetime.strptime(datetime_draft, \"%Y-%m-%d %H:%M:%S\")\n",
    "                                current_date_time_list.append(combined_datetime)\n",
    "\n",
    "                                start_date_time_list.append(start_datetime)\n",
    "                                end_date_time_list.append(end_datetime)\n",
    "\n",
    "                    f.close()\n",
    "                    activity +=1\n",
    "                  \n",
    "                except FileNotFoundError:\n",
    "                    print(f\"the file {filename} doesn't exist.\")\n",
    "                except Exception as e:\n",
    "                    print(f\"Error: {e}\")\n",
    "                    \n",
    "    return activity_id_list, user_id_list, lat_list, long_list, altitude_list, date_days_list, current_date_time_list, start_date_time_list, end_date_time_list"
   ]
  },
  {
   "cell_type": "code",
   "execution_count": 12,
   "metadata": {},
   "outputs": [],
   "source": [
    "def creating_activity_and_trackpoint_dataframe():    \n",
    "    # getting info from txt files\n",
    "    user_id_list, transportation_mode_list, start_date_time_list, end_date_time_list = get_info_from_labels_txt_file()\n",
    "    labels_txt = {'user_id': user_id_list, 'transportation_mode': transportation_mode_list, 'start_datetime': start_date_time_list, 'end_datetime': end_date_time_list}\n",
    "    labels_txt_df = pd.DataFrame(labels_txt)\n",
    "\n",
    "    # getting info from plt files\n",
    "    activity_id_list, user_id_list_2, lat_list, long_list, altitude_list, date_days_list, current_date_time_list, start_date_time_list2, end_date_time_list2 = get_info_from_plt_file()\n",
    "    plt = {'activity_id': activity_id_list, 'user_id': user_id_list_2, 'lat': lat_list, 'long': long_list, 'altitude': altitude_list, 'date_days': date_days_list, 'current_date_time': current_date_time_list, 'start_datetime': start_date_time_list2, 'end_datetime': end_date_time_list2}\n",
    "    plt_df = pd.DataFrame(plt)\n",
    "\n",
    "    # merging both dataframes\n",
    "    merged_df = pd.merge(plt_df, labels_txt_df, on=['user_id', 'start_datetime', 'end_datetime'], how='left')\n",
    "\n",
    "    # creating activity table\n",
    "    activity_table = merged_df[['activity_id','user_id', 'transportation_mode', 'start_datetime', 'end_datetime']]\n",
    "    activity_table = activity_table.fillna(\"missing\")\n",
    "    activity_table['start_datetime'] = activity_table['start_datetime'].astype(str) # converting into string to be able to insert into the sql table\n",
    "    activity_table['end_datetime'] = activity_table['end_datetime'].astype(str)\n",
    "    activity_table = activity_table.drop_duplicates()\n",
    "\n",
    "    # creating trackpoint table\n",
    "    trackpoint_table = merged_df[['activity_id','lat', 'long', 'altitude', 'date_days', 'current_date_time']]\n",
    "    trackpoint_table.rename(columns={'current_date_time': 'date_time'}, inplace=True)\n",
    "    trackpoint_table['id'] = range(1, len(trackpoint_table) + 1)\n",
    "    trackpoint_table = trackpoint_table[['id'] + [col for col in trackpoint_table.columns if col != 'id']]\n",
    "    trackpoint_table['date_time'] = trackpoint_table['date_time'].astype(str)\n",
    "\n",
    "    return activity_table, trackpoint_table\n"
   ]
  },
  {
   "cell_type": "code",
   "execution_count": 13,
   "metadata": {},
   "outputs": [],
   "source": [
    "class Task1:\n",
    "\n",
    "    # we use constant for defining the tables\n",
    "    USER = 'User'\n",
    "    ACTIVITY = 'Activity'\n",
    "    TRACK_POINT = 'TrackPoint'\n",
    "\n",
    "    def __init__(self):\n",
    "        self.connection = DbConnector()\n",
    "        self.db_connection = self.connection.db_connection\n",
    "        self.cursor = self.connection.cursor\n",
    "\n",
    "# --------------- CREATION OF THE TABLES ---------------\n",
    "\n",
    "    def create_table_user(self):\n",
    "        query = \"\"\"CREATE TABLE IF NOT EXISTS %s (\n",
    "                    userID VARCHAR(30) NOT NULL PRIMARY KEY,\n",
    "                    has_labels BOOLEAN)\n",
    "                \"\"\"\n",
    "        # this adds table_name to the %s variable and executes the query\n",
    "        self.cursor.execute(query % self.USER)\n",
    "        self.db_connection.commit()\n",
    "    \n",
    "\n",
    "    def create_table_activity(self):\n",
    "        query = \"\"\"CREATE TABLE IF NOT EXISTS %s (\n",
    "                    activityID int NOT NULL,\n",
    "                    userID varchar(30) NOT NULL,\t\n",
    "                    transportation_mode varchar(30),\n",
    "                    start_date_time datetime NOT NULL,\n",
    "                    end_date_time datetime NOT NULL,\n",
    "                    PRIMARY KEY (activityID, transportation_mode)\n",
    "                \n",
    "                )\"\"\"\n",
    "        # FOREIGN KEY (userID) REFERENCES User(userID)\n",
    "        # this adds table_name to the %s variable and executes the query\n",
    "        self.cursor.execute(query % self.ACTIVITY)\n",
    "        self.db_connection.commit()\n",
    "\n",
    "        query_constr = \"\"\" ALTER TABLE %s\n",
    "                    ADD CONSTRAINT check_start_end_dates\n",
    "                    CHECK (start_date_time < end_date_time)\n",
    "                \"\"\"\n",
    "\n",
    "        self.cursor.execute(query_constr % self.ACTIVITY)\n",
    "        self.db_connection.commit()\n",
    "    \n",
    "\n",
    "    def create_table_trackpoint(self):\n",
    "        query = \"\"\"CREATE TABLE IF NOT EXISTS %s (\n",
    "                    trackPointID INT NOT NULL,\n",
    "                    activityID int NOT NULL,\n",
    "\t                lat double NOT NULL,\n",
    "\t                lon double NOT NULL,\n",
    "\t                altitude int NOT NULL,\n",
    "\t                date_days double NOT NULL,\n",
    "\t                date_time datetime NOT NULL,\n",
    "\t                PRIMARY KEY (trackPointID))\n",
    "                \"\"\"\n",
    "        # FOREIGN KEY (activityID) REFERENCES Activity(activityID))\n",
    "        # this adds table_name to the %s variable and executes the query\n",
    "        self.cursor.execute(query % self.TRACK_POINT)\n",
    "        self.db_connection.commit()\n",
    "\n",
    "# --------------- INSERT OF DATA ---------------\n",
    "\n",
    "# *** USER ***\n",
    "    def insert_data_user(self):\n",
    "        print('*** INSERT IN USER ***')\n",
    "        # we go to the Data directory\n",
    "        os.chdir('/Users/victoriastasik/Documents/Very_large_distributed_data_volumes_exercise2/dataset/dataset/Data') #FIXME: maybe you need to change if\n",
    "\n",
    "        # we get the list of all the diferent directory names (users ids) and we sort the list\n",
    "        usersID =  os.listdir()\n",
    "        usersID.sort()\n",
    "\n",
    "        # we go back to the dataset directory and we read the labeled_ids.txt file\n",
    "        os.chdir(\"..\")\n",
    "        with open('labeled_ids.txt') as f:\n",
    "            labeled_ids = f.readlines()\n",
    "        f.close()\n",
    "        os.chdir('/Users/victoriastasik/Documents/Very_large_distributed_data_volumes_exercise2/dataset/dataset/Data')\n",
    "        \n",
    "        # # we delete the \\n in each string\n",
    "        for i in range (0, len(labeled_ids)):\n",
    "            labeled_ids[i] = labeled_ids[i].strip()\n",
    "\n",
    "        # we check if each user has a label or not and we save the info in a list\n",
    "        # the indexes of has_labels and id lists are correponding\n",
    "        has_labels = []\n",
    "        for i in usersID : \n",
    "            if i in labeled_ids : \n",
    "                has_labels.append(True)\n",
    "            else:\n",
    "                has_labels.append(False)\n",
    "\n",
    "        user_table = {'userID': usersID, 'has_labels': has_labels}\n",
    "        user_dataframe = pd.DataFrame(user_table)\n",
    "        user_data = user_dataframe.to_records(index=False).tolist()\n",
    "        query = \"INSERT INTO {} (userID, has_labels) VALUES (%s, %s)\".format(self.USER)\n",
    "        self.cursor.executemany(query, user_data)\n",
    "        self.db_connection.commit()\n",
    "\n",
    "    \n",
    "# *** ACTIVITY ***\n",
    "    def insert_data_activity(self, activity_dataframe):\n",
    "        print('*** INSERT IN ACTIVITY ***')\n",
    "        activity_data = activity_dataframe.to_records(index=False).tolist()\n",
    "        query = \"INSERT INTO {} (activityID, userID, transportation_mode, start_date_time, end_date_time) VALUES (%s, %s, %s, %s, %s)\".format(self.ACTIVITY)\n",
    "\n",
    "        # Batch insert (e.g., insert 100 rows at a time)\n",
    "        batch_size = 1000\n",
    "        for i in range(0, len(activity_data), batch_size):\n",
    "            batch_data = activity_data[i : i+batch_size]\n",
    "            self.cursor.executemany(query, batch_data)\n",
    "            self.db_connection.commit()\n",
    "\n",
    "\n",
    "# *** TRACKPOINT ***\n",
    "    def insert_data_trackpoint(self, trackpoint_dataframe):\n",
    "        print('*** INSERT IN TRACKPOINT ***')\n",
    "        trackpoint_data = trackpoint_dataframe.to_records(index=False).tolist()\n",
    "        query = \"INSERT INTO {} (trackpointID, activityID, lat, lon, altitude, date_days, date_time) VALUES (%s, %s, %s, %s, %s, %s, %s)\".format(self.TRACK_POINT)\n",
    "\n",
    "        # Batch insert (e.g., insert 100 rows at a time)\n",
    "        batch_size = 1000\n",
    "        for i in range(0, len(trackpoint_data), batch_size):\n",
    "            batch_data = trackpoint_data[i : i+batch_size]\n",
    "            self.cursor.executemany(query, batch_data)\n",
    "            self.db_connection.commit()  \n",
    "       \n",
    "            \n",
    "\n",
    "# --------------- FETCH DATA ---------------\n",
    "\n",
    "    def execute_query(self, query, query_name):\n",
    "        self.cursor.execute(query)\n",
    "        rows = self.cursor.fetchall()\n",
    "        # Using tabulate to show the table in a nice way\n",
    "        print(query_name)\n",
    "        print(tabulate(rows, headers=self.cursor.column_names))\n",
    "        print('\\n')\n",
    "        print('******************************************************')\n",
    "        return rows\n",
    "    \n",
    "\n",
    "# ---------------- ALTER TABLES ----------------\n",
    "\n",
    "    def altering_tables_with_foreign_key(self):\n",
    "        \n",
    "        query1 = \"\"\"ALTER TABLE Activity\n",
    "                ADD CONSTRAINT fk_activity\n",
    "                FOREIGN KEY (userID)\n",
    "                REFERENCES User(userID);\"\"\"\n",
    "        self.cursor.execute(query1) \n",
    "        self.db_connection.commit() \n",
    "\n",
    "        query2 = \"\"\"ALTER TABLE TrackPoint\n",
    "                ADD CONSTRAINT fk_trackpoint\n",
    "                FOREIGN KEY (activityID)\n",
    "                REFERENCES Activity(activityID);\"\"\"\n",
    "        self.cursor.execute(query2) \n",
    "        self.db_connection.commit()\n",
    "\n",
    "# --------------- DROP TABLE ---------------\n",
    "\n",
    "    def drop_table(self, table_name):\n",
    "        print(\"Dropping table %s...\" % table_name)\n",
    "        query = \"DROP TABLE %s\"\n",
    "        self.cursor.execute(query % table_name)\n",
    "\n",
    "# --------------- SHOW TABLES ---------------\n",
    "\n",
    "    def show_tables(self):\n",
    "        self.cursor.execute(\"SHOW TABLES\")\n",
    "        rows = self.cursor.fetchall()\n",
    "        print(tabulate(rows, headers=self.cursor.column_names))\n"
   ]
  },
  {
   "cell_type": "markdown",
   "metadata": {},
   "source": [
    "# Task 2 - *queries*"
   ]
  },
  {
   "cell_type": "markdown",
   "metadata": {},
   "source": [
    "**GENERAL QUERIES**\n"
   ]
  },
  {
   "cell_type": "code",
   "execution_count": 14,
   "metadata": {},
   "outputs": [],
   "source": [
    "select_table_activity = \"\"\"\n",
    "        SELECT * FROM Activity LIMIT 10\n",
    "        \"\"\""
   ]
  },
  {
   "cell_type": "code",
   "execution_count": 15,
   "metadata": {},
   "outputs": [],
   "source": [
    "select_table_user = \"\"\"\n",
    "        SELECT * FROM User LIMIT 11\n",
    "\"\"\""
   ]
  },
  {
   "cell_type": "code",
   "execution_count": 16,
   "metadata": {},
   "outputs": [],
   "source": [
    "select_table_trackpoint = \"\"\"\n",
    "        SELECT * FROM TrackPoint LIMIT 10\n",
    "\"\"\""
   ]
  },
  {
   "cell_type": "markdown",
   "metadata": {},
   "source": [
    "**QUERY 1**\n",
    "How many users, activities and trackpoints are there in the dataset (after it is inserted into the database)."
   ]
  },
  {
   "cell_type": "code",
   "execution_count": 17,
   "metadata": {},
   "outputs": [],
   "source": [
    "query1 = \"\"\"\n",
    "        SELECT\n",
    "            (SELECT COUNT(*) FROM User) AS TotUser,\n",
    "            (SELECT COUNT(*) FROM Activity) AS TotActivity,\n",
    "            (SELECT COUNT(*) FROM TrackPoint) AS TotTrackPoint;\n",
    "        \"\"\"\n"
   ]
  },
  {
   "cell_type": "markdown",
   "metadata": {},
   "source": [
    "**QUERY 2** Find the average, maximum and minimum number of trackpoints per user."
   ]
  },
  {
   "cell_type": "code",
   "execution_count": 18,
   "metadata": {},
   "outputs": [],
   "source": [
    "query2 =  \"\"\"\n",
    "        SELECT \n",
    "            userID, \n",
    "            avg(nb_tp_per_activity) as mean_trackpoint, \n",
    "            max(nb_tp_per_activity) as max_trackpoint, \n",
    "            min(nb_tp_per_activity) as min_trackpoint\n",
    "        FROM (select count(*) as nb_tp_per_activity, activityID\n",
    "        FROM TrackPoint as tp\n",
    "        GROUP BY activityID) tp\n",
    "        LEFT JOIN Activity a \n",
    "        ON tp.activityID = a.activityID\n",
    "        GROUP BY userID\n",
    "        LIMIT 10\n",
    "    \"\"\"\n"
   ]
  },
  {
   "cell_type": "markdown",
   "metadata": {},
   "source": [
    "**QUERY 3** Find the top 15 users with the highest number of activities."
   ]
  },
  {
   "cell_type": "code",
   "execution_count": 19,
   "metadata": {},
   "outputs": [],
   "source": [
    "query3 = \"\"\"\n",
    "        SELECT U.userID, count(A.activityID) AS activity_nb \n",
    "        FROM User U LEFT JOIN Activity A ON U.userID = A.userID \n",
    "        GROUP BY U.userID \n",
    "        ORDER BY activity_nb DESC \n",
    "        \"\"\""
   ]
  },
  {
   "cell_type": "markdown",
   "metadata": {},
   "source": [
    "**QUERY 4** Find all users who have taken a bus."
   ]
  },
  {
   "cell_type": "code",
   "execution_count": 20,
   "metadata": {},
   "outputs": [],
   "source": [
    "query4 =  \"\"\"\n",
    "        SELECT DISTINCT userID\n",
    "        FROM Activity\n",
    "        WHERE transportation_mode = 'bus' \n",
    "        ORDER BY LOWER(userID)\n",
    "        \"\"\""
   ]
  },
  {
   "cell_type": "markdown",
   "metadata": {},
   "source": [
    "**QUERY 5** List the top 10 users by their amount of different transportation modes."
   ]
  },
  {
   "cell_type": "code",
   "execution_count": 21,
   "metadata": {},
   "outputs": [],
   "source": [
    "query5 = \"\"\"\n",
    "    SELECT userID,\n",
    "    COUNT(transportation_mode) as nb_transportation_mode\n",
    "    FROM(\n",
    "        SELECT \n",
    "            userID,\n",
    "            transportation_mode\n",
    "        FROM Activity\n",
    "        GROUP BY UserID,transportation_mode) t\n",
    "    GROUP BY UserID\n",
    "    ORDER BY nb_transportation_mode DESC\n",
    "\"\"\""
   ]
  },
  {
   "cell_type": "markdown",
   "metadata": {},
   "source": [
    "**QUERY 6** Find activities that are registered multiple times. You should find the query even if it gives zero result.\n"
   ]
  },
  {
   "cell_type": "code",
   "execution_count": 22,
   "metadata": {},
   "outputs": [],
   "source": [
    "query6 = \"\"\"\n",
    "    SELECT \n",
    "        A.userID, \n",
    "        A.transportation_mode, \n",
    "        A.start_date_time, \n",
    "        A.end_date_time, \n",
    "        COUNT(*) AS registration_nb \n",
    "    FROM Activity A\n",
    "    GROUP BY \n",
    "        A.userID, \n",
    "        A.transportation_mode, \n",
    "        A.start_date_time, \n",
    "        A.end_date_time HAVING COUNT(*) > 1;\n",
    "\"\"\""
   ]
  },
  {
   "cell_type": "markdown",
   "metadata": {},
   "source": [
    "**QUERY 7** \n",
    "1. Find the number of users that have started an activity in one day and ended the activity the next day.\n",
    "2. List the transportation mode, user id and duration for these activities."
   ]
  },
  {
   "cell_type": "code",
   "execution_count": 23,
   "metadata": {},
   "outputs": [],
   "source": [
    "#info: DATE extracts the \"date\" part\n",
    "query7_a = \"\"\"\n",
    "        SELECT COUNT(DISTINCT userID) as tot_users_with_activity\n",
    "        FROM Activity\n",
    "        WHERE \n",
    "                DATE(start_date_time) != DATE(end_date_time) \n",
    "                and \n",
    "                DATEDIFF(end_date_time, start_date_time) = 1\n",
    "        \"\"\""
   ]
  },
  {
   "cell_type": "code",
   "execution_count": 24,
   "metadata": {},
   "outputs": [],
   "source": [
    "query7_b = \"\"\"\n",
    "    SELECT \n",
    "        userID, \n",
    "        transportation_mode, \n",
    "        TIMESTAMPDIFF(MINUTE, start_date_time, end_date_time) as duration\n",
    "    FROM Activity\n",
    "    WHERE \n",
    "        DATE(start_date_time) != DATE(end_date_time) \n",
    "        and \n",
    "        DATEDIFF(end_date_time, start_date_time) = 1\n",
    "    ORDER BY userID ASC, duration DESC\n",
    "\"\"\""
   ]
  },
  {
   "cell_type": "markdown",
   "metadata": {},
   "source": [
    "**QUERY 8** Find the number of users which have been close to each other in time and space.\n",
    "Close is defined as the same space (50 meters) and for the same half minute (30 seconds)\n"
   ]
  },
  {
   "cell_type": "code",
   "execution_count": 25,
   "metadata": {},
   "outputs": [],
   "source": [
    "query8 = \"\"\"\n",
    "    SELECT \n",
    "        user1,\n",
    "        user2, \n",
    "        COUNT (\n",
    "            CASE WHEN (ST_Distance(point(long1, lat1),\n",
    " \t\t\tpoint(long2, lat2)) <= 50) \n",
    "            and (abs(TIMESTAMPDIFF(Second,date1,date2))<30) \n",
    "            THEN 1 ELSE null end) as nb\n",
    "    FROM (\n",
    "        SELECT \n",
    "            tp1.userID as user1, \n",
    "            tp1.lat as lat1,\n",
    "            tp1.lon as long1,\n",
    "            tp1.date_time as date1,\n",
    "            tp2.userID as user2, \n",
    "            tp2.lat as lat2,\n",
    "            tp2.lon as long2,\n",
    "            tp2.date_time as date2\n",
    "        FROM (\n",
    "            SELECT a.userID,tp.lat, tp.lon, tp.date_time \n",
    "            FROM TrackPoint tp \n",
    "            JOIN Activity a \n",
    "            ON a.activityID=tp.activityID)tp1 \n",
    "            JOIN (\n",
    "                SELECT a.userID, tp.lat, tp.lon,tp.date_time \n",
    "                FROM TrackPoint tp \n",
    "                JOIN Activity a \n",
    "                ON a.activityID=tp.activityID) tp2\n",
    "                ON date(tp1.date_time) = date(tp1.date_time)\n",
    "                WHERE tp1.userID<tp2.userID) tp_compare\n",
    "    GROUP BY user1,user2;\n",
    "\n",
    "\"\"\""
   ]
  },
  {
   "cell_type": "markdown",
   "metadata": {},
   "source": [
    "**QUERY 9** Find the top 15 users who have gained the most altitude meters."
   ]
  },
  {
   "cell_type": "code",
   "execution_count": 26,
   "metadata": {},
   "outputs": [],
   "source": [
    "query9 = \"\"\"\n",
    "    SET @prev_userID = NULL;\n",
    "    SET @prev_altitude = NULL;\n",
    "    \n",
    "    SELECT userID,  SUM(gained_altitude) AS total_altitude \n",
    "    FROM (\n",
    "            SELECT userID, altitude, \n",
    "            CASE \n",
    "                WHEN @prev_userID IS NULL OR userID <> @prev_userID \n",
    "                THEN 0 WHEN altitude > @prev_altitude \n",
    "                THEN altitude - @prev_altitude \n",
    "                ELSE 0 END AS gained_altitude, @prev_userID := userID, @prev_altitude := altitude \n",
    "            FROM TrackPoint JOIN Activity ON TrackPoint.activityID = Activity.activityID \n",
    "            ORDER BY userID, trackPointID) AS Tab \n",
    "    GROUP BY userID ORDER BY total_altitude DESC \n",
    "    LIMIT 15; \n",
    "\"\"\""
   ]
  },
  {
   "cell_type": "markdown",
   "metadata": {},
   "source": [
    "**QUERY 10** Find the users that have traveled the longest total distance in one day for each transportation mode.\n"
   ]
  },
  {
   "cell_type": "code",
   "execution_count": 33,
   "metadata": {},
   "outputs": [],
   "source": [
    "query10 = \"\"\"\n",
    "SELECT t.userID, t.transportation_mode, t.dis\n",
    "    FROM (\n",
    "        SELECT \n",
    "            userID, \n",
    "            transportation_mode, \n",
    "            dis,\n",
    "            ROW_NUMBER() OVER (PARTITION BY transportation_mode ORDER BY dis DESC) AS RowNum\n",
    "        FROM (\n",
    "            SELECT\n",
    "                userID,\n",
    "                transportation_mode,\n",
    "                max(dis) as dis\n",
    "            FROM (\n",
    "                SELECT \n",
    "                    userID,\n",
    "                    date,\n",
    "                    transportation_mode, \n",
    "                    sum(distance) as dis\n",
    "                FROM (\n",
    "                    SELECT \n",
    "                        tp_max.*,\n",
    "                        tp2.lon as lon_min,\n",
    "                        tp2.lat as lat_min,\n",
    "                        ST_Distance(point(lon_max, lat_max),point(tp2.lon, tp2.lat)) as distance \n",
    "                    FROM (\n",
    "                        SELECT \n",
    "                            ac_min_max.*,\n",
    "                            tp1.lon as lon_max,\n",
    "                            tp1.lat as lat_max\n",
    "                        FROM (\n",
    "                            SELECT \n",
    "                                max(trackpointID) as max,\n",
    "                                min(trackpointID) as min,\n",
    "                                activityID\n",
    "                            FROM (\n",
    "                                SELECT *\n",
    "                                FROM TrackPoint\n",
    "                                ORDER BY trackpointID)tp\n",
    "                            GROUP BY activityID)ac_min_max\n",
    "                        LEFT JOIN TrackPoint tp1\n",
    "                        ON ac_min_max.max=tp1.trackpointID)tp_max\n",
    "                    LEFT JOIN TrackPoint tp2\n",
    "                    ON tp_max.min=tp2.trackpointID)tab\n",
    "                RIGHT JOIN (\n",
    "                    SELECT \n",
    "                        userID,\n",
    "                        activityID,\n",
    "                        transportation_mode,\n",
    "                        date(start_date_time) as date \n",
    "                    FROM Activity \n",
    "                    WHERE date(start_date_time)=date(end_date_time) ) a \n",
    "                ON a.activityID= tab.activityID\n",
    "                GROUP BY userID,date,transportation_mode)tt\n",
    "            GROUP BY transportation_mode,userID\n",
    "            ORDER BY max(dis) DESC\n",
    "            )tot\n",
    "    )t\n",
    "WHERE t.RowNum = 1;\n",
    "\"\"\""
   ]
  },
  {
   "cell_type": "markdown",
   "metadata": {},
   "source": [
    "**QUERY 11** Find all users who have invalid activities, and the number of invalid activities per user.\n"
   ]
  },
  {
   "cell_type": "code",
   "execution_count": 30,
   "metadata": {},
   "outputs": [],
   "source": [
    "query11 = \"\"\"\n",
    "                SET @prev_activity = NULL;\n",
    "                SET @prev_time = NULL;\n",
    "               \n",
    "                SELECT \n",
    "                    userID, \n",
    "                    activityID,\n",
    "                    trackpointID, \n",
    "                    date_time, \n",
    "                    CASE \n",
    "                        WHEN @prev_activity is null or @prev_activity<>activityID THEN 0\n",
    "                        WHEN TIMESTAMPDIFF(MINUTE,date_time,@prev_time)>5 THEN 1\n",
    "                        ELSE 0 end AS flag_incorect,\n",
    "                    @prev_activity = activityID,\n",
    "                    @prev_time = date_time\n",
    "                FROM TrackPoint tp\n",
    "                JOIN Activity a ON tp.activityID = a.activityID\n",
    "                ORDER BY activityID,trackpointID\n",
    "\n",
    "\"\"\""
   ]
  },
  {
   "cell_type": "markdown",
   "metadata": {},
   "source": [
    "**QUERY 12** Find all users who have registered transportation_mode and their most used transportation_mode."
   ]
  },
  {
   "cell_type": "code",
   "execution_count": 31,
   "metadata": {},
   "outputs": [],
   "source": [
    "query12 = \"\"\"\n",
    "        SET @prev_activity = NULL;\n",
    "        SET @prev_time = NULL;\n",
    "                    \n",
    "        SELECT \n",
    "            userID, \n",
    "            activityID,\n",
    "            trackpointID, \n",
    "            date_time, \n",
    "            CASE \n",
    "                WHEN @prev_activity is null or @prev_activity<>activityID THEN 0\n",
    "                WHEN TIMESTAMPDIFF(MINUTE,date_time,@prev_time)>5 THEN 1\n",
    "                ELSE 0 end AS flag_incorect,\n",
    "            @prev_activity = activityID,\n",
    "            @prev_time = date_time\n",
    "        FROM TrackPoint tp\n",
    "        JOIN Activity a ON tp.activityID = a.activityID\n",
    "        ORDER BY activityID,trackpointID\n",
    "\"\"\""
   ]
  },
  {
   "cell_type": "markdown",
   "metadata": {},
   "source": [
    "# Main"
   ]
  },
  {
   "cell_type": "code",
   "execution_count": 34,
   "metadata": {},
   "outputs": [
    {
     "name": "stdout",
     "output_type": "stream",
     "text": [
      "Connected to: 8.0.34-0ubuntu0.22.04.1\n",
      "You are connected to the database: ('db_19',)\n",
      "-----------------------------------------------\n",
      "\n",
      "\n",
      "QUERY 10\n",
      "  userID  transportation_mode             dis\n",
      "--------  ---------------------  ------------\n",
      "     128  airplane                10.2009\n",
      "     128  bike                     0.313325\n",
      "     128  boat                     0.586744\n",
      "     128  bus                      1.45441\n",
      "     128  car                      3.45451\n",
      "     128  missing                248.996\n",
      "     062  run                      0.00020134\n",
      "     128  subway                   0.245041\n",
      "     128  taxi                     0.234522\n",
      "     062  train                    2.99243\n",
      "     108  walk                     0.25725\n",
      "\n",
      "\n",
      "******************************************************\n",
      "\n",
      "-----------------------------------------------\n",
      "Connection to None is closed\n"
     ]
    }
   ],
   "source": [
    "def main():\n",
    "    \n",
    "    program = None\n",
    "\n",
    "    try:\n",
    "        program = Task1() \n",
    "        #activity_table, trackpoint_table = creating_activity_and_trackpoint_dataframe()\n",
    "\n",
    "        # --- DROP TABLE ---\n",
    "        # program.drop_table(program.TRACK_POINT)\n",
    "        # program.drop_table(program.ACTIVITY)\n",
    "        # program.drop_table(program.USER)\n",
    "\n",
    "        # --- TABLE CREATION ---\n",
    "        # program.create_table_user()\n",
    "        # program.create_table_activity()\n",
    "        # program.create_table_trackpoint()\n",
    "        \n",
    "        \n",
    "        # --- INSERTION ---\n",
    "        # program.insert_data_user()\n",
    "        # program.insert_data_activity(activity_table)\n",
    "        # program.insert_data_trackpoint(trackpoint_table)\n",
    "\n",
    "        # --- ALTER TABLES ---\n",
    "        # program.altering_tables_with_foreign_key()\n",
    "            \n",
    "        # --- SHOW TABLES ---\n",
    "        # program.show_tables()\n",
    "\n",
    "        # --- EXECUTE QUERIES ---\n",
    "       \n",
    "        # program.execute_query(select_table_user, '\\nSELECT USERS')\n",
    "        # program.execute_query(select_table_activity, '\\nSELECT ACTIVITY')\n",
    "        # program.execute_query(select_table_trackpoint, '\\nSELECT TRACKPOINT')\n",
    "        # program.execute_query(query1, '\\nQUERY 1')\n",
    "        # program.execute_query(query2, '\\nQUERY 2')\n",
    "        # program.execute_query(query3, '\\nQUERY 3')\n",
    "        # program.execute_query(query4, '\\nQUERY 4')\n",
    "        # program.execute_query(query5, '\\nQUERY 5')\n",
    "        # program.execute_query(query6, '\\nQUERY 6')\n",
    "        # program.execute_query(query7_a, '\\nQUERY 7 A')\n",
    "        # program.execute_query(query7_b, '\\nQUERY 7 B')\n",
    "        # program.execute_query(query8, '\\nQUERY 8')\n",
    "        #program.execute_query(query9, '\\nQUERY 9')\n",
    "        program.execute_query(query10, '\\nQUERY 10')\n",
    "        # program.execute_query(query10, '\\nQUERY 10')\n",
    "        # program.execute_query(query11, '\\nQUERY 11')\n",
    "        # program.execute_query(query12, '\\nQUERY 12')\n",
    "        \n",
    "    except Exception as e:\n",
    "        print(\"ERROR: Failed to use database:\", e)\n",
    "    finally:\n",
    "        if program:\n",
    "            program.connection.close_connection()\n",
    "\n",
    "if __name__ == '__main__':\n",
    "    main()"
   ]
  },
  {
   "cell_type": "code",
   "execution_count": null,
   "metadata": {},
   "outputs": [],
   "source": []
  },
  {
   "cell_type": "code",
   "execution_count": null,
   "metadata": {},
   "outputs": [],
   "source": []
  },
  {
   "cell_type": "code",
   "execution_count": null,
   "metadata": {},
   "outputs": [],
   "source": []
  }
 ],
 "metadata": {
  "kernelspec": {
   "display_name": "Python 3",
   "language": "python",
   "name": "python3"
  },
  "language_info": {
   "codemirror_mode": {
    "name": "ipython",
    "version": 3
   },
   "file_extension": ".py",
   "mimetype": "text/x-python",
   "name": "python",
   "nbconvert_exporter": "python",
   "pygments_lexer": "ipython3",
   "version": "3.10.11"
  },
  "orig_nbformat": 4
 },
 "nbformat": 4,
 "nbformat_minor": 2
}
