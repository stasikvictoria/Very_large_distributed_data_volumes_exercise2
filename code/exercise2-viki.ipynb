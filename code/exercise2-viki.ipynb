{
 "cells": [
  {
   "cell_type": "markdown",
   "metadata": {},
   "source": [
    "# Installing requirements"
   ]
  },
  {
   "cell_type": "code",
   "execution_count": 1,
   "metadata": {},
   "outputs": [],
   "source": [
    "import os"
   ]
  },
  {
   "cell_type": "code",
   "execution_count": 2,
   "metadata": {},
   "outputs": [
    {
     "data": {
      "text/plain": [
       "'c:\\\\Users\\\\sarac\\\\OneDrive - Università degli Studi di Milano\\\\[erasmus]\\\\[COURSES]\\\\[DB]\\\\assignments\\\\assignment2\\\\GITHUB\\\\Very_large_distributed_data_volumes_exercise2\\\\code'"
      ]
     },
     "execution_count": 2,
     "metadata": {},
     "output_type": "execute_result"
    }
   ],
   "source": [
    "os.getcwd()"
   ]
  },
  {
   "cell_type": "code",
   "execution_count": 3,
   "metadata": {},
   "outputs": [],
   "source": [
    "#path = os.getcwd()\n",
    "#os.chdir(path+\"/code\")"
   ]
  },
  {
   "cell_type": "code",
   "execution_count": 4,
   "metadata": {},
   "outputs": [],
   "source": [
    "#os.getcwd()"
   ]
  },
  {
   "cell_type": "code",
   "execution_count": 5,
   "metadata": {},
   "outputs": [
    {
     "name": "stdout",
     "output_type": "stream",
     "text": [
      "Requirement already satisfied: haversine==2.8.0 in c:\\users\\sarac\\appdata\\local\\packages\\pythonsoftwarefoundation.python.3.10_qbz5n2kfra8p0\\localcache\\local-packages\\python310\\site-packages (from -r requirements.txt (line 1)) (2.8.0)\n",
      "Requirement already satisfied: mysql-connector-python==8.1.0 in c:\\users\\sarac\\appdata\\local\\packages\\pythonsoftwarefoundation.python.3.10_qbz5n2kfra8p0\\localcache\\local-packages\\python310\\site-packages (from -r requirements.txt (line 2)) (8.1.0)\n",
      "Requirement already satisfied: tabulate==0.9.0 in c:\\users\\sarac\\appdata\\local\\packages\\pythonsoftwarefoundation.python.3.10_qbz5n2kfra8p0\\localcache\\local-packages\\python310\\site-packages (from -r requirements.txt (line 3)) (0.9.0)\n",
      "Requirement already satisfied: protobuf<=4.21.12,>=4.21.1 in c:\\users\\sarac\\appdata\\local\\packages\\pythonsoftwarefoundation.python.3.10_qbz5n2kfra8p0\\localcache\\local-packages\\python310\\site-packages (from mysql-connector-python==8.1.0->-r requirements.txt (line 2)) (4.21.12)\n",
      "Note: you may need to restart the kernel to use updated packages.\n"
     ]
    },
    {
     "name": "stderr",
     "output_type": "stream",
     "text": [
      "\n",
      "[notice] A new release of pip is available: 23.0.1 -> 23.2.1\n",
      "[notice] To update, run: C:\\Users\\sarac\\AppData\\Local\\Microsoft\\WindowsApps\\PythonSoftwareFoundation.Python.3.10_qbz5n2kfra8p0\\python.exe -m pip install --upgrade pip\n"
     ]
    }
   ],
   "source": [
    "%pip install -r requirements.txt"
   ]
  },
  {
   "cell_type": "code",
   "execution_count": 3,
   "metadata": {},
   "outputs": [
    {
     "data": {
      "text/plain": [
       "'c:\\\\Users\\\\sarac\\\\OneDrive - Università degli Studi di Milano\\\\[erasmus]\\\\[COURSES]\\\\[DB]\\\\assignments\\\\assignment2\\\\GITHUB\\\\Very_large_distributed_data_volumes_exercise2'"
      ]
     },
     "execution_count": 3,
     "metadata": {},
     "output_type": "execute_result"
    }
   ],
   "source": [
    "os.chdir(\"..\")\n",
    "os.getcwd()"
   ]
  },
  {
   "cell_type": "markdown",
   "metadata": {},
   "source": [
    "# Imports"
   ]
  },
  {
   "cell_type": "code",
   "execution_count": 4,
   "metadata": {},
   "outputs": [],
   "source": [
    "from tabulate import tabulate\n",
    "import mysql.connector as mysql"
   ]
  },
  {
   "cell_type": "markdown",
   "metadata": {},
   "source": [
    "# Class DBConnector"
   ]
  },
  {
   "cell_type": "code",
   "execution_count": 5,
   "metadata": {},
   "outputs": [],
   "source": [
    "class DbConnector:\n",
    "    \"\"\"\n",
    "    Connects to the MySQL server on the Ubuntu virtual machine.\n",
    "    Connector needs HOST, DATABASE, USER and PASSWORD to connect,\n",
    "    while PORT is optional and should be 3306.\n",
    "\n",
    "    Example:\n",
    "    HOST = \"tdt4225-00.idi.ntnu.no\" // Your server IP address/domain name\n",
    "    DATABASE = \"testdb\" // Database name, if you just want to connect to MySQL server, leave it empty\n",
    "    USER = \"testuser\" // This is the user you created and added privileges for\n",
    "    PASSWORD = \"test123\" // The password you set for said user\n",
    "    \"\"\"\n",
    "\n",
    "    def __init__(self,\n",
    "                 HOST=\"tdt4225-19.idi.ntnu.no\",\n",
    "                 DATABASE=\"test_19\",\n",
    "                 USER=\"team19\",\n",
    "                 PASSWORD=\"team19*\"):\n",
    "        # Connect to the database\n",
    "        try:\n",
    "            self.db_connection = mysql.connect(host=HOST, database=DATABASE, user=USER, password=PASSWORD, port=3306)\n",
    "        except Exception as e:\n",
    "            print(\"ERROR: Failed to connect to db:\", e)\n",
    "\n",
    "        # Get the db cursor\n",
    "        self.cursor = self.db_connection.cursor()\n",
    "\n",
    "        print(\"Connected to:\", self.db_connection.get_server_info())\n",
    "        # get database information\n",
    "        self.cursor.execute(\"select database();\")\n",
    "        database_name = self.cursor.fetchone()\n",
    "        print(\"You are connected to the database:\", database_name)\n",
    "        print(\"-----------------------------------------------\\n\")\n",
    "\n",
    "    def close_connection(self):\n",
    "        # close the cursor\n",
    "        self.cursor.close()\n",
    "        # close the DB connection\n",
    "        self.db_connection.close()\n",
    "        print(\"\\n-----------------------------------------------\")\n",
    "        print(\"Connection to %s is closed\" % self.db_connection.get_server_info())\n"
   ]
  },
  {
   "cell_type": "markdown",
   "metadata": {},
   "source": [
    "# Example program"
   ]
  },
  {
   "cell_type": "code",
   "execution_count": 85,
   "metadata": {},
   "outputs": [],
   "source": [
    "class ExampleProgram:\n",
    "\n",
    "    def __init__(self):\n",
    "        self.connection = DbConnector()\n",
    "        self.db_connection = self.connection.db_connection\n",
    "        self.cursor = self.connection.cursor\n",
    "\n",
    "    def create_table(self, table_name):\n",
    "        query = \"\"\"CREATE TABLE IF NOT EXISTS %s (\n",
    "                   id INT AUTO_INCREMENT NOT NULL PRIMARY KEY,\n",
    "                   name VARCHAR(30))\n",
    "                \"\"\"\n",
    "        # This adds table_name to the %s variable and executes the query\n",
    "        self.cursor.execute(query % table_name)\n",
    "        self.db_connection.commit()\n",
    "\n",
    "    def insert_data(self, table_name):\n",
    "        names = ['Bobby', 'Mc', 'McSmack', 'Board']\n",
    "        for name in names:\n",
    "            # Take note that the name is wrapped in '' --> '%s' because it is a string,\n",
    "            # while an int would be %s etc\n",
    "            query = \"INSERT INTO %s (name) VALUES ('%s')\"\n",
    "            self.cursor.execute(query % (table_name, name))\n",
    "        self.db_connection.commit()\n",
    "\n",
    "    def fetch_data(self, table_name):\n",
    "        query = \"SELECT * FROM %s\"\n",
    "        self.cursor.execute(query % table_name)\n",
    "        rows = self.cursor.fetchall()\n",
    "        print(\"Data from table %s, raw format:\" % table_name)\n",
    "        print(rows)\n",
    "        # Using tabulate to show the table in a nice way\n",
    "        print(\"Data from table %s, tabulated:\" % table_name)\n",
    "        print(tabulate(rows, headers=self.cursor.column_names))\n",
    "        return rows\n",
    "\n",
    "    def drop_table(self, table_name):\n",
    "        print(\"Dropping table %s...\" % table_name)\n",
    "        query = \"DROP TABLE %s\"\n",
    "        self.cursor.execute(query % table_name)\n",
    "\n",
    "    def show_tables(self):\n",
    "        self.cursor.execute(\"SHOW TABLES\")\n",
    "        rows = self.cursor.fetchall()\n",
    "        print(tabulate(rows, headers=self.cursor.column_names))\n",
    "\n",
    "\n",
    "def main():\n",
    "    program = None\n",
    "    try:\n",
    "        program = ExampleProgram()\n",
    "        program.create_table(table_name=\"Person\")\n",
    "        program.insert_data(table_name=\"Person\")\n",
    "        _ = program.fetch_data(table_name=\"Person\")\n",
    "        program.drop_table(table_name=\"Person\")\n",
    "        # Check that the table is dropped\n",
    "        program.show_tables()\n",
    "    except Exception as e:\n",
    "        print(\"ERROR: Failed to use database:\", e)\n",
    "    finally:\n",
    "        if program:\n",
    "            program.connection.close_connection()\n"
   ]
  },
  {
   "cell_type": "code",
   "execution_count": 86,
   "metadata": {},
   "outputs": [
    {
     "name": "stdout",
     "output_type": "stream",
     "text": [
      "Connected to: 8.0.34-0ubuntu0.22.04.1\n",
      "You are connected to the database: ('test_19',)\n",
      "-----------------------------------------------\n",
      "\n",
      "Data from table Person, raw format:\n",
      "[(1, 'Bobby'), (2, 'Mc'), (3, 'McSmack'), (4, 'Board')]\n",
      "Data from table Person, tabulated:\n",
      "  id  name\n",
      "----  -------\n",
      "   1  Bobby\n",
      "   2  Mc\n",
      "   3  McSmack\n",
      "   4  Board\n",
      "Dropping table Person...\n",
      "Tables_in_test_19\n",
      "-------------------\n",
      "Activity_s\n",
      "Activity_v\n",
      "TrackPoint_s\n",
      "TrackPoint_v\n",
      "User_s\n",
      "User_v\n",
      "\n",
      "-----------------------------------------------\n",
      "Connection to None is closed\n"
     ]
    }
   ],
   "source": [
    "if __name__ == '__main__':\n",
    "    main()"
   ]
  },
  {
   "cell_type": "markdown",
   "metadata": {},
   "source": [
    "# Task 1"
   ]
  },
  {
   "cell_type": "markdown",
   "metadata": {},
   "source": [
    "### Operations on the tables"
   ]
  },
  {
   "cell_type": "code",
   "execution_count": 19,
   "metadata": {},
   "outputs": [],
   "source": [
    "class Task1:\n",
    "\n",
    "    # we use constant for defining the tables\n",
    "    USER = 'User'\n",
    "    ACTIVITY = 'Activity'\n",
    "    TRACK_POINT = 'TrackPoint'\n",
    "\n",
    "    def __init__(self):\n",
    "        self.connection = DbConnector()\n",
    "        self.db_connection = self.connection.db_connection\n",
    "        self.cursor = self.connection.cursor\n",
    "\n",
    "# --------------- CREATION OF THE TABLES ---------------\n",
    "\n",
    "    def create_table_user(self):\n",
    "        query = \"\"\"CREATE TABLE IF NOT EXISTS %s (\n",
    "                    userID VARCHAR(30) NOT NULL PRIMARY KEY,\n",
    "                    has_labels BOOLEAN)\n",
    "                \"\"\"\n",
    "        # This adds table_name to the %s variable and executes the query\n",
    "        self.cursor.execute(query % self.USER)\n",
    "        self.db_connection.commit()\n",
    "    \n",
    "\n",
    "    def create_table_activity(self):\n",
    "        query = \"\"\"CREATE TABLE IF NOT EXISTS %s (\n",
    "                    activityID int AUTO_INCREMENT NOT NULL,\n",
    "                    userID varchar(30) NOT NULL,\t\n",
    "                    transportation_mode varchar(30),\n",
    "                    start_date_time datetime NOT NULL,\n",
    "                    end_date_time datetime NOT NULL,\n",
    "                    PRIMARY KEY (activityID),\n",
    "                    FOREIGN KEY (userID) REFERENCES User(userID)\n",
    "                )\"\"\"\n",
    "        # This adds table_name to the %s variable and executes the query\n",
    "        self.cursor.execute(query % self.ACTIVITY)\n",
    "        self.db_connection.commit()\n",
    "\n",
    "        query_constr = \"\"\" ALTER TABLE %s\n",
    "                    ADD CONSTRAINT check_start_end_dates\n",
    "                    CHECK (start_date_time < end_date_time)\n",
    "                \"\"\"\n",
    "\n",
    "        self.cursor.execute(query_constr % self.ACTIVITY)\n",
    "        self.db_connection.commit()\n",
    "    \n",
    "\n",
    "    def create_table_trackpoint(self):\n",
    "        query = \"\"\"CREATE TABLE IF NOT EXISTS %s (\n",
    "                    trackPointID INT AUTO_INCREMENT NOT NULL,\n",
    "                    activityID int NOT NULL,\n",
    "\t                lat double NOT NULL,\n",
    "\t                lon double NOT NULL,\n",
    "\t                altitude int NOT NULL,\n",
    "\t                date_days double NOT NULL,\n",
    "\t                date_time datetime NOT NULL,\n",
    "\t                PRIMARY KEY (trackPointID),\n",
    "\t                FOREIGN KEY (activityID) REFERENCES Activity(activityID))\n",
    "                \"\"\"\n",
    "        # This adds table_name to the %s variable and executes the query\n",
    "        self.cursor.execute(query % self.TRACK_POINT)\n",
    "        self.db_connection.commit()\n",
    "\n",
    "# --------------- INSERT OF DATA ---------------\n",
    "\n",
    "# FIXME\n",
    "\n",
    "    def insert_data_user(self):\n",
    "        # we go to the Data directory\n",
    "        path = os.getcwd()\n",
    "        os.chdir(path+\"\\\\dataset\\\\dataset\\\\Data\")\n",
    "        \n",
    "\n",
    "        # we get the list of all the diferent directory names (users ids) and we sort the list\n",
    "        usersID =  os.listdir()\n",
    "        usersID.sort()\n",
    "\n",
    "        # we go back to the dataset directory and we read the labeled_ids.txt file\n",
    "        os.chdir(\"..\")\n",
    "        with open('labeled_ids.txt') as f:\n",
    "            labeled_ids = f.readlines()\n",
    "        f.close()\n",
    "        os.chdir(\"..\")\n",
    "        os.chdir(\"..\")\n",
    "        \n",
    "        # # we delete the \\n in each string\n",
    "        for i in range (0, len(labeled_ids)):\n",
    "            labeled_ids[i] = labeled_ids[i].strip()\n",
    "\n",
    "        # we check if each user has a label or not and we save the info in a list\n",
    "        # the indexes of has_labels and id lists are correponding\n",
    "        has_labels = []\n",
    "        for i in usersID : \n",
    "            if i in labeled_ids : \n",
    "                has_labels.append(True)\n",
    "            else:\n",
    "                has_labels.append(False)\n",
    "\n",
    "        # we execute the query to insert the data\n",
    "        for i in range(len(usersID)):\n",
    "\n",
    "            # NOTE: if we want to insert a string -> '%s'\n",
    "            query = \"INSERT INTO %s (userID, has_labels) VALUES ('%s', %s)\"\n",
    "            values = (self.USER, usersID[i], has_labels[i])\n",
    "            self.cursor.execute(query % (values))\n",
    "\n",
    "        self.db_connection.commit()\n",
    "\n",
    "# --------------- FETCH DATA ---------------\n",
    "\n",
    "    def fetch_data(self, table_name):\n",
    "        query = \"SELECT * FROM %s\"\n",
    "        self.cursor.execute(query % table_name)\n",
    "        rows = self.cursor.fetchall()\n",
    "        print(\"Data from table %s, raw format:\" % table_name)\n",
    "        print(rows)\n",
    "        # Using tabulate to show the table in a nice way\n",
    "        print(\"Data from table %s, tabulated:\" % table_name)\n",
    "        print(tabulate(rows, headers=self.cursor.column_names))\n",
    "        return rows\n",
    "\n",
    "# --------------- DROP TABLE ---------------\n",
    "\n",
    "    def drop_table(self, table_name):\n",
    "        print(\"Dropping table %s...\" % table_name)\n",
    "        query = \"DROP TABLE %s\"\n",
    "        self.cursor.execute(query % table_name)\n",
    "\n",
    "# --------------- SHOW TABLES ---------------\n",
    "\n",
    "    def show_tables(self):\n",
    "        self.cursor.execute(\"SHOW TABLES\")\n",
    "        rows = self.cursor.fetchall()\n",
    "        print(tabulate(rows, headers=self.cursor.column_names))\n"
   ]
  },
  {
   "cell_type": "code",
   "execution_count": 22,
   "metadata": {},
   "outputs": [
    {
     "name": "stdout",
     "output_type": "stream",
     "text": [
      "Connected to: 8.0.34-0ubuntu0.22.04.1\n",
      "You are connected to the database: ('test_19',)\n",
      "-----------------------------------------------\n",
      "\n",
      "Data from table User, raw format:\n",
      "[('000', 0), ('001', 0), ('002', 0), ('003', 0), ('004', 0), ('005', 0), ('006', 0), ('007', 0), ('008', 0), ('009', 0), ('010', 1), ('011', 0), ('012', 0), ('013', 0), ('014', 0), ('015', 0), ('016', 0), ('017', 0), ('018', 0), ('019', 0), ('020', 1), ('021', 1), ('022', 0), ('023', 0), ('024', 0), ('025', 0), ('026', 0), ('027', 0), ('028', 0), ('029', 0), ('030', 0), ('031', 0), ('032', 0), ('033', 0), ('034', 0), ('035', 0), ('036', 0), ('037', 0), ('038', 0), ('039', 0), ('040', 0), ('041', 0), ('042', 0), ('043', 0), ('044', 0), ('045', 0), ('046', 0), ('047', 0), ('048', 0), ('049', 0), ('050', 0), ('051', 0), ('052', 1), ('053', 1), ('054', 0), ('055', 0), ('056', 1), ('057', 0), ('058', 1), ('059', 1), ('060', 1), ('061', 0), ('062', 1), ('063', 0), ('064', 1), ('065', 1), ('066', 0), ('067', 1), ('068', 1), ('069', 1), ('070', 0), ('071', 0), ('072', 0), ('073', 1), ('074', 0), ('075', 1), ('076', 1), ('077', 0), ('078', 1), ('079', 0), ('080', 1), ('081', 1), ('082', 1), ('083', 0), ('084', 1), ('085', 1), ('086', 1), ('087', 1), ('088', 1), ('089', 1), ('090', 0), ('091', 1), ('092', 1), ('093', 0), ('094', 0), ('095', 0), ('096', 1), ('097', 1), ('098', 1), ('099', 0), ('100', 1), ('101', 1), ('102', 1), ('103', 0), ('104', 1), ('105', 1), ('106', 1), ('107', 1), ('108', 1), ('109', 0), ('110', 1), ('111', 1), ('112', 1), ('113', 0), ('114', 1), ('115', 1), ('116', 1), ('117', 1), ('118', 1), ('119', 0), ('120', 0), ('121', 0), ('122', 0), ('123', 0), ('124', 1), ('125', 1), ('126', 1), ('127', 0), ('128', 1), ('129', 1), ('130', 0), ('131', 0), ('132', 0), ('133', 0), ('134', 0), ('135', 0), ('136', 1), ('137', 0), ('138', 1), ('139', 1), ('140', 0), ('141', 1), ('142', 0), ('143', 0), ('144', 1), ('145', 0), ('146', 0), ('147', 1), ('148', 0), ('149', 0), ('150', 0), ('151', 0), ('152', 0), ('153', 1), ('154', 1), ('155', 0), ('156', 0), ('157', 0), ('158', 0), ('159', 0), ('160', 0), ('161', 1), ('162', 0), ('163', 1), ('164', 0), ('165', 0), ('166', 0), ('167', 1), ('168', 0), ('169', 0), ('170', 1), ('171', 0), ('172', 0), ('173', 0), ('174', 1), ('175', 1), ('176', 0), ('177', 0), ('178', 0), ('179', 1), ('180', 0), ('181', 0)]\n",
      "Data from table User, tabulated:\n",
      "  userID    has_labels\n",
      "--------  ------------\n",
      "     000             0\n",
      "     001             0\n",
      "     002             0\n",
      "     003             0\n",
      "     004             0\n",
      "     005             0\n",
      "     006             0\n",
      "     007             0\n",
      "     008             0\n",
      "     009             0\n",
      "     010             1\n",
      "     011             0\n",
      "     012             0\n",
      "     013             0\n",
      "     014             0\n",
      "     015             0\n",
      "     016             0\n",
      "     017             0\n",
      "     018             0\n",
      "     019             0\n",
      "     020             1\n",
      "     021             1\n",
      "     022             0\n",
      "     023             0\n",
      "     024             0\n",
      "     025             0\n",
      "     026             0\n",
      "     027             0\n",
      "     028             0\n",
      "     029             0\n",
      "     030             0\n",
      "     031             0\n",
      "     032             0\n",
      "     033             0\n",
      "     034             0\n",
      "     035             0\n",
      "     036             0\n",
      "     037             0\n",
      "     038             0\n",
      "     039             0\n",
      "     040             0\n",
      "     041             0\n",
      "     042             0\n",
      "     043             0\n",
      "     044             0\n",
      "     045             0\n",
      "     046             0\n",
      "     047             0\n",
      "     048             0\n",
      "     049             0\n",
      "     050             0\n",
      "     051             0\n",
      "     052             1\n",
      "     053             1\n",
      "     054             0\n",
      "     055             0\n",
      "     056             1\n",
      "     057             0\n",
      "     058             1\n",
      "     059             1\n",
      "     060             1\n",
      "     061             0\n",
      "     062             1\n",
      "     063             0\n",
      "     064             1\n",
      "     065             1\n",
      "     066             0\n",
      "     067             1\n",
      "     068             1\n",
      "     069             1\n",
      "     070             0\n",
      "     071             0\n",
      "     072             0\n",
      "     073             1\n",
      "     074             0\n",
      "     075             1\n",
      "     076             1\n",
      "     077             0\n",
      "     078             1\n",
      "     079             0\n",
      "     080             1\n",
      "     081             1\n",
      "     082             1\n",
      "     083             0\n",
      "     084             1\n",
      "     085             1\n",
      "     086             1\n",
      "     087             1\n",
      "     088             1\n",
      "     089             1\n",
      "     090             0\n",
      "     091             1\n",
      "     092             1\n",
      "     093             0\n",
      "     094             0\n",
      "     095             0\n",
      "     096             1\n",
      "     097             1\n",
      "     098             1\n",
      "     099             0\n",
      "     100             1\n",
      "     101             1\n",
      "     102             1\n",
      "     103             0\n",
      "     104             1\n",
      "     105             1\n",
      "     106             1\n",
      "     107             1\n",
      "     108             1\n",
      "     109             0\n",
      "     110             1\n",
      "     111             1\n",
      "     112             1\n",
      "     113             0\n",
      "     114             1\n",
      "     115             1\n",
      "     116             1\n",
      "     117             1\n",
      "     118             1\n",
      "     119             0\n",
      "     120             0\n",
      "     121             0\n",
      "     122             0\n",
      "     123             0\n",
      "     124             1\n",
      "     125             1\n",
      "     126             1\n",
      "     127             0\n",
      "     128             1\n",
      "     129             1\n",
      "     130             0\n",
      "     131             0\n",
      "     132             0\n",
      "     133             0\n",
      "     134             0\n",
      "     135             0\n",
      "     136             1\n",
      "     137             0\n",
      "     138             1\n",
      "     139             1\n",
      "     140             0\n",
      "     141             1\n",
      "     142             0\n",
      "     143             0\n",
      "     144             1\n",
      "     145             0\n",
      "     146             0\n",
      "     147             1\n",
      "     148             0\n",
      "     149             0\n",
      "     150             0\n",
      "     151             0\n",
      "     152             0\n",
      "     153             1\n",
      "     154             1\n",
      "     155             0\n",
      "     156             0\n",
      "     157             0\n",
      "     158             0\n",
      "     159             0\n",
      "     160             0\n",
      "     161             1\n",
      "     162             0\n",
      "     163             1\n",
      "     164             0\n",
      "     165             0\n",
      "     166             0\n",
      "     167             1\n",
      "     168             0\n",
      "     169             0\n",
      "     170             1\n",
      "     171             0\n",
      "     172             0\n",
      "     173             0\n",
      "     174             1\n",
      "     175             1\n",
      "     176             0\n",
      "     177             0\n",
      "     178             0\n",
      "     179             1\n",
      "     180             0\n",
      "     181             0\n",
      "\n",
      "-----------------------------------------------\n",
      "Connection to None is closed\n"
     ]
    }
   ],
   "source": [
    "def main():\n",
    "    program = None\n",
    "\n",
    "    try:\n",
    "        program = Task1() \n",
    "\n",
    "        # --- TABLE CREATION ---\n",
    "        # program.create_table_user()\n",
    "        # program.create_table_activity()\n",
    "        # program.create_table_trackpoint()\n",
    "\n",
    "        # --- INSERTION ---\n",
    "        #program.insert_data_user()\n",
    "\n",
    "        # --- DROP TABLE ---\n",
    "        # program.drop_table(program.TRACK_POINT)\n",
    "        # program.drop_table(program.ACTIVITY)\n",
    "        # program.drop_table(program.USER)\n",
    "\n",
    "        # --- FETCH ---\n",
    "        program.fetch_data(program.USER)\n",
    "        \n",
    "        # --- SHOW TABLES ---\n",
    "        #program.show_tables()\n",
    "        \n",
    "    except Exception as e:\n",
    "        print(\"ERROR: Failed to use database:\", e)\n",
    "    finally:\n",
    "        if program:\n",
    "            program.connection.close_connection()\n",
    "\n",
    "if __name__ == '__main__':\n",
    "    main()"
   ]
  },
  {
   "cell_type": "code",
   "execution_count": 108,
   "metadata": {},
   "outputs": [
    {
     "data": {
      "text/plain": [
       "'/Users/victoriastasik/Documents/Very_large_distributed_data_volumes_exercise2'"
      ]
     },
     "execution_count": 108,
     "metadata": {},
     "output_type": "execute_result"
    }
   ],
   "source": [
    "os.chdir(\"..\")\n",
    "os.getcwd()"
   ]
  },
  {
   "cell_type": "code",
   "execution_count": 109,
   "metadata": {},
   "outputs": [],
   "source": [
    "path = os.getcwd()\n",
    "os.chdir(path+\"/dataset/dataset/Data\")"
   ]
  },
  {
   "cell_type": "code",
   "execution_count": 133,
   "metadata": {},
   "outputs": [],
   "source": [
    "from datetime import datetime\n",
    "user_id = []\n",
    "transportation_mode = []\n",
    "start_date_time = []\n",
    "end_date_time = []\n",
    "\n",
    "for dirpath, dirnames, filenames in os.walk(os.getcwd()):\n",
    "    for filename in filenames:\n",
    "        if filename.endswith('.txt'):\n",
    "            with open(os.path.join(dirpath, filename)) as f:\n",
    "                lines = f.readlines()\n",
    "                # skip the header\n",
    "                lines = lines[1:]\n",
    "                for line in lines:\n",
    "\n",
    "                    data = line.split()\n",
    "\n",
    "                    last_directory_name = os.path.basename(dirpath)\n",
    "                    user_id.append(last_directory_name)\n",
    "\n",
    "                    transportation_mode.append(data[4])\n",
    "\n",
    "                    start_date = data[0]\n",
    "                    start_time = data[1]\n",
    "                    end_date = data[2]\n",
    "                    end_time = data[3]\n",
    "                    start_datetime_str = start_date + \" \" + start_time\n",
    "                    end_datetime_str = end_date + \" \" + end_time\n",
    "                    combined_start_datetime = datetime.strptime(start_datetime_str, \"%Y/%m/%d %H:%M:%S\")\n",
    "                    combined_end_datetime = datetime.strptime(end_datetime_str, \"%Y/%m/%d %H:%M:%S\")\n",
    "\n",
    "                    start_date_time.append(combined_start_datetime)\n",
    "                    end_date_time.append(combined_end_datetime)\n",
    "            f.close()"
   ]
  },
  {
   "cell_type": "code",
   "execution_count": 136,
   "metadata": {},
   "outputs": [
    {
     "data": {
      "text/plain": [
       "14718"
      ]
     },
     "execution_count": 136,
     "metadata": {},
     "output_type": "execute_result"
    }
   ],
   "source": [
    "len(user_id)"
   ]
  },
  {
   "cell_type": "code",
   "execution_count": 137,
   "metadata": {},
   "outputs": [
    {
     "data": {
      "text/plain": [
       "14718"
      ]
     },
     "execution_count": 137,
     "metadata": {},
     "output_type": "execute_result"
    }
   ],
   "source": [
    "len(transportation_mode)"
   ]
  },
  {
   "cell_type": "code",
   "execution_count": 138,
   "metadata": {},
   "outputs": [
    {
     "data": {
      "text/plain": [
       "14718"
      ]
     },
     "execution_count": 138,
     "metadata": {},
     "output_type": "execute_result"
    }
   ],
   "source": [
    "len(start_date_time)"
   ]
  },
  {
   "cell_type": "code",
   "execution_count": null,
   "metadata": {},
   "outputs": [],
   "source": []
  }
 ],
 "metadata": {
  "kernelspec": {
   "display_name": "Python 3",
   "language": "python",
   "name": "python3"
  },
  "language_info": {
   "codemirror_mode": {
    "name": "ipython",
    "version": 3
   },
   "file_extension": ".py",
   "mimetype": "text/x-python",
   "name": "python",
   "nbconvert_exporter": "python",
   "pygments_lexer": "ipython3",
   "version": "3.10.11"
  },
  "orig_nbformat": 4
 },
 "nbformat": 4,
 "nbformat_minor": 2
}
