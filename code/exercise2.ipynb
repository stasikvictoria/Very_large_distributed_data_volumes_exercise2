{
 "cells": [
  {
   "cell_type": "markdown",
   "metadata": {},
   "source": [
    "# Installing requirements"
   ]
  },
  {
   "cell_type": "code",
   "execution_count": 2,
   "metadata": {},
   "outputs": [],
   "source": [
    "import os"
   ]
  },
  {
   "cell_type": "code",
   "execution_count": 3,
   "metadata": {},
   "outputs": [
    {
     "data": {
      "text/plain": [
       "'/Users/victoriastasik/Downloads/assignment2_2023/assignment2'"
      ]
     },
     "execution_count": 3,
     "metadata": {},
     "output_type": "execute_result"
    }
   ],
   "source": [
    "os.getcwd()"
   ]
  },
  {
   "cell_type": "code",
   "execution_count": 4,
   "metadata": {},
   "outputs": [],
   "source": [
    "path = os.getcwd()\n",
    "os.chdir(path)"
   ]
  },
  {
   "cell_type": "code",
   "execution_count": 5,
   "metadata": {},
   "outputs": [
    {
     "name": "stdout",
     "output_type": "stream",
     "text": [
      "Collecting haversine==2.8.0\n",
      "  Downloading haversine-2.8.0-py2.py3-none-any.whl (7.7 kB)\n",
      "Collecting mysql-connector-python==8.1.0\n",
      "  Downloading mysql_connector_python-8.1.0-py2.py3-none-any.whl (581 kB)\n",
      "\u001b[2K     \u001b[90m━━━━━━━━━━━━━━━━━━━━━━━━━━━━━━━━━━━━━\u001b[0m \u001b[32m581.1/581.1 kB\u001b[0m \u001b[31m985.8 kB/s\u001b[0m eta \u001b[36m0:00:00\u001b[0m00:01\u001b[0m00:01\u001b[0m\n",
      "\u001b[?25hCollecting tabulate==0.9.0\n",
      "  Downloading tabulate-0.9.0-py3-none-any.whl (35 kB)\n",
      "Collecting protobuf<=4.21.12,>=4.21.1\n",
      "  Downloading protobuf-4.21.12-cp37-abi3-macosx_10_9_universal2.whl (486 kB)\n",
      "\u001b[2K     \u001b[90m━━━━━━━━━━━━━━━━━━━━━━━━━━━━━━━━━━━━━━━\u001b[0m \u001b[32m486.2/486.2 kB\u001b[0m \u001b[31m2.4 MB/s\u001b[0m eta \u001b[36m0:00:00\u001b[0m00:01\u001b[0m00:01\u001b[0m\n",
      "\u001b[?25hInstalling collected packages: tabulate, protobuf, haversine, mysql-connector-python\n",
      "  Attempting uninstall: tabulate\n",
      "    Found existing installation: tabulate 0.8.9\n",
      "    Uninstalling tabulate-0.8.9:\n",
      "      Successfully uninstalled tabulate-0.8.9\n",
      "  Attempting uninstall: protobuf\n",
      "    Found existing installation: protobuf 3.19.1\n",
      "    Uninstalling protobuf-3.19.1:\n",
      "      Successfully uninstalled protobuf-3.19.1\n",
      "\u001b[31mERROR: pip's dependency resolver does not currently take into account all the packages that are installed. This behaviour is the source of the following dependency conflicts.\n",
      "tensorflow 2.10.0 requires protobuf<3.20,>=3.9.2, but you have protobuf 4.21.12 which is incompatible.\n",
      "tensorboard 2.10.1 requires protobuf<3.20,>=3.9.2, but you have protobuf 4.21.12 which is incompatible.\n",
      "streamlit 1.13.0 requires protobuf!=3.20.2,<4,>=3.12, but you have protobuf 4.21.12 which is incompatible.\u001b[0m\u001b[31m\n",
      "\u001b[0mSuccessfully installed haversine-2.8.0 mysql-connector-python-8.1.0 protobuf-4.21.12 tabulate-0.9.0\n",
      "\n",
      "\u001b[1m[\u001b[0m\u001b[34;49mnotice\u001b[0m\u001b[1;39;49m]\u001b[0m\u001b[39;49m A new release of pip available: \u001b[0m\u001b[31;49m22.3\u001b[0m\u001b[39;49m -> \u001b[0m\u001b[32;49m23.2.1\u001b[0m\n",
      "\u001b[1m[\u001b[0m\u001b[34;49mnotice\u001b[0m\u001b[1;39;49m]\u001b[0m\u001b[39;49m To update, run: \u001b[0m\u001b[32;49mpip install --upgrade pip\u001b[0m\n",
      "Note: you may need to restart the kernel to use updated packages.\n"
     ]
    }
   ],
   "source": [
    "%pip install -r requirements.txt"
   ]
  },
  {
   "cell_type": "markdown",
   "metadata": {},
   "source": [
    "# Imports"
   ]
  },
  {
   "cell_type": "code",
   "execution_count": 9,
   "metadata": {},
   "outputs": [],
   "source": [
    "from tabulate import tabulate\n",
    "import mysql.connector as mysql"
   ]
  },
  {
   "cell_type": "markdown",
   "metadata": {},
   "source": [
    "# Class DBConnector"
   ]
  },
  {
   "cell_type": "code",
   "execution_count": 10,
   "metadata": {},
   "outputs": [],
   "source": [
    "class DbConnector:\n",
    "    \"\"\"\n",
    "    Connects to the MySQL server on the Ubuntu virtual machine.\n",
    "    Connector needs HOST, DATABASE, USER and PASSWORD to connect,\n",
    "    while PORT is optional and should be 3306.\n",
    "\n",
    "    Example:\n",
    "    HOST = \"tdt4225-00.idi.ntnu.no\" // Your server IP address/domain name\n",
    "    DATABASE = \"testdb\" // Database name, if you just want to connect to MySQL server, leave it empty\n",
    "    USER = \"testuser\" // This is the user you created and added privileges for\n",
    "    PASSWORD = \"test123\" // The password you set for said user\n",
    "    \"\"\"\n",
    "\n",
    "    def __init__(self,\n",
    "                 HOST=\"tdt4225-19.idi.ntnu.no\",\n",
    "                 DATABASE=\"test_19\",\n",
    "                 USER=\"team19\",\n",
    "                 PASSWORD=\"team19*\"):\n",
    "        # Connect to the database\n",
    "        try:\n",
    "            self.db_connection = mysql.connect(host=HOST, database=DATABASE, user=USER, password=PASSWORD, port=3306)\n",
    "        except Exception as e:\n",
    "            print(\"ERROR: Failed to connect to db:\", e)\n",
    "\n",
    "        # Get the db cursor\n",
    "        self.cursor = self.db_connection.cursor()\n",
    "\n",
    "        print(\"Connected to:\", self.db_connection.get_server_info())\n",
    "        # get database information\n",
    "        self.cursor.execute(\"select database();\")\n",
    "        database_name = self.cursor.fetchone()\n",
    "        print(\"You are connected to the database:\", database_name)\n",
    "        print(\"-----------------------------------------------\\n\")\n",
    "\n",
    "    def close_connection(self):\n",
    "        # close the cursor\n",
    "        self.cursor.close()\n",
    "        # close the DB connection\n",
    "        self.db_connection.close()\n",
    "        print(\"\\n-----------------------------------------------\")\n",
    "        print(\"Connection to %s is closed\" % self.db_connection.get_server_info())\n"
   ]
  },
  {
   "cell_type": "markdown",
   "metadata": {},
   "source": [
    "# Example program"
   ]
  },
  {
   "cell_type": "code",
   "execution_count": 13,
   "metadata": {},
   "outputs": [],
   "source": [
    "class ExampleProgram:\n",
    "\n",
    "    def __init__(self):\n",
    "        self.connection = DbConnector()\n",
    "        self.db_connection = self.connection.db_connection\n",
    "        self.cursor = self.connection.cursor\n",
    "\n",
    "    def create_table(self, table_name):\n",
    "        query = \"\"\"CREATE TABLE IF NOT EXISTS %s (\n",
    "                   id INT AUTO_INCREMENT NOT NULL PRIMARY KEY,\n",
    "                   name VARCHAR(30))\n",
    "                \"\"\"\n",
    "        # This adds table_name to the %s variable and executes the query\n",
    "        self.cursor.execute(query % table_name)\n",
    "        self.db_connection.commit()\n",
    "\n",
    "    def insert_data(self, table_name):\n",
    "        names = ['Bobby', 'Mc', 'McSmack', 'Board']\n",
    "        for name in names:\n",
    "            # Take note that the name is wrapped in '' --> '%s' because it is a string,\n",
    "            # while an int would be %s etc\n",
    "            query = \"INSERT INTO %s (name) VALUES ('%s')\"\n",
    "            self.cursor.execute(query % (table_name, name))\n",
    "        self.db_connection.commit()\n",
    "\n",
    "    def fetch_data(self, table_name):\n",
    "        query = \"SELECT * FROM %s\"\n",
    "        self.cursor.execute(query % table_name)\n",
    "        rows = self.cursor.fetchall()\n",
    "        print(\"Data from table %s, raw format:\" % table_name)\n",
    "        print(rows)\n",
    "        # Using tabulate to show the table in a nice way\n",
    "        print(\"Data from table %s, tabulated:\" % table_name)\n",
    "        print(tabulate(rows, headers=self.cursor.column_names))\n",
    "        return rows\n",
    "\n",
    "    def drop_table(self, table_name):\n",
    "        print(\"Dropping table %s...\" % table_name)\n",
    "        query = \"DROP TABLE %s\"\n",
    "        self.cursor.execute(query % table_name)\n",
    "\n",
    "    def show_tables(self):\n",
    "        self.cursor.execute(\"SHOW TABLES\")\n",
    "        rows = self.cursor.fetchall()\n",
    "        print(tabulate(rows, headers=self.cursor.column_names))\n",
    "\n",
    "\n",
    "def main():\n",
    "    program = None\n",
    "    try:\n",
    "        program = ExampleProgram()\n",
    "        program.create_table(table_name=\"Person\")\n",
    "        program.insert_data(table_name=\"Person\")\n",
    "        _ = program.fetch_data(table_name=\"Person\")\n",
    "        program.drop_table(table_name=\"Person\")\n",
    "        # Check that the table is dropped\n",
    "        program.show_tables()\n",
    "    except Exception as e:\n",
    "        print(\"ERROR: Failed to use database:\", e)\n",
    "    finally:\n",
    "        if program:\n",
    "            program.connection.close_connection()\n"
   ]
  },
  {
   "cell_type": "code",
   "execution_count": 14,
   "metadata": {},
   "outputs": [
    {
     "name": "stdout",
     "output_type": "stream",
     "text": [
      "Connected to: 8.0.34-0ubuntu0.22.04.1\n",
      "You are connected to the database: ('test_19',)\n",
      "-----------------------------------------------\n",
      "\n",
      "Data from table Person, raw format:\n",
      "[(1, 'Bobby'), (2, 'Mc'), (3, 'McSmack'), (4, 'Board')]\n",
      "Data from table Person, tabulated:\n",
      "  id  name\n",
      "----  -------\n",
      "   1  Bobby\n",
      "   2  Mc\n",
      "   3  McSmack\n",
      "   4  Board\n",
      "Dropping table Person...\n",
      "Tables_in_test_19\n",
      "-------------------\n",
      "\n",
      "-----------------------------------------------\n",
      "Connection to None is closed\n"
     ]
    }
   ],
   "source": [
    "if __name__ == '__main__':\n",
    "    main()"
   ]
  },
  {
   "cell_type": "markdown",
   "metadata": {},
   "source": [
    "# Task 1"
   ]
  },
  {
   "cell_type": "code",
   "execution_count": 15,
   "metadata": {},
   "outputs": [],
   "source": [
    "class Task1:\n",
    "\n",
    "    def __init__(self):\n",
    "        self.connection = DbConnector()\n",
    "        self.db_connection = self.connection.db_connection\n",
    "        self.cursor = self.connection.cursor\n",
    "\n",
    "    def create_table_user(self):\n",
    "        query = \"\"\"CREATE TABLE IF NOT EXISTS %s (\n",
    "                   id INT AUTO_INCREMENT NOT NULL PRIMARY KEY,\n",
    "                   name VARCHAR(30))\n",
    "                \"\"\"\n",
    "        # This adds table_name to the %s variable and executes the query\n",
    "        self.cursor.execute(query % \"user\")\n",
    "        self.db_connection.commit()\n",
    "    \n",
    "    def create_table_activity(self):\n",
    "        query = \"\"\"CREATE TABLE IF NOT EXISTS %s (\n",
    "                   id INT AUTO_INCREMENT NOT NULL PRIMARY KEY,\n",
    "                   name VARCHAR(30))\n",
    "                \"\"\"\n",
    "        # This adds table_name to the %s variable and executes the query\n",
    "        self.cursor.execute(query % \"activity\")\n",
    "        self.db_connection.commit()\n",
    "    \n",
    "    def create_table_trackpoint(self, table_name):\n",
    "        query = \"\"\"CREATE TABLE IF NOT EXISTS %s (\n",
    "                   id INT AUTO_INCREMENT NOT NULL PRIMARY KEY,\n",
    "                   name VARCHAR(30))\n",
    "                \"\"\"\n",
    "        # This adds table_name to the %s variable and executes the query\n",
    "        self.cursor.execute(query % \"trackpoint\")\n",
    "        self.db_connection.commit()\n",
    "\n",
    "    def insert_data_user(self):\n",
    "        names = ['Bobby', 'Mc', 'McSmack', 'Board']\n",
    "        for name in names:\n",
    "            # Take note that the name is wrapped in '' --> '%s' because it is a string,\n",
    "            # while an int would be %s etc\n",
    "            query = \"INSERT INTO %s (name) VALUES ('%s')\"\n",
    "            #self.cursor.execute(query % (table_name, name))\n",
    "        self.db_connection.commit()\n",
    "\n",
    "    def insert_data_activity(self):\n",
    "        names = ['Bobby', 'Mc', 'McSmack', 'Board']\n",
    "        for name in names:\n",
    "            # Take note that the name is wrapped in '' --> '%s' because it is a string,\n",
    "            # while an int would be %s etc\n",
    "            query = \"INSERT INTO %s (name) VALUES ('%s')\"\n",
    "            #self.cursor.execute(query % (table_name, name))\n",
    "        self.db_connection.commit()\n",
    "\n",
    "    def insert_data_trackpoint(self):\n",
    "        names = ['Bobby', 'Mc', 'McSmack', 'Board']\n",
    "        for name in names:\n",
    "            # Take note that the name is wrapped in '' --> '%s' because it is a string,\n",
    "            # while an int would be %s etc\n",
    "            query = \"INSERT INTO %s (name) VALUES ('%s')\"\n",
    "            #self.cursor.execute(query % (table_name, name))\n",
    "        self.db_connection.commit()\n",
    "\n",
    "    def fetch_data(self, table_name):\n",
    "        query = \"SELECT * FROM %s\"\n",
    "        self.cursor.execute(query % table_name)\n",
    "        rows = self.cursor.fetchall()\n",
    "        print(\"Data from table %s, raw format:\" % table_name)\n",
    "        print(rows)\n",
    "        # Using tabulate to show the table in a nice way\n",
    "        print(\"Data from table %s, tabulated:\" % table_name)\n",
    "        print(tabulate(rows, headers=self.cursor.column_names))\n",
    "        return rows\n",
    "\n",
    "    def drop_table(self, table_name):\n",
    "        print(\"Dropping table %s...\" % table_name)\n",
    "        query = \"DROP TABLE %s\"\n",
    "        self.cursor.execute(query % table_name)\n",
    "\n",
    "    def show_tables(self):\n",
    "        self.cursor.execute(\"SHOW TABLES\")\n",
    "        rows = self.cursor.fetchall()\n",
    "        print(tabulate(rows, headers=self.cursor.column_names))\n"
   ]
  },
  {
   "cell_type": "code",
   "execution_count": null,
   "metadata": {},
   "outputs": [],
   "source": [
    "def main():\n",
    "    program = None\n",
    "    try:\n",
    "        program = Task1()\n",
    "        program.create_table(table_name=\"User\")\n",
    "        program.create_table(table_name=\"Activity\")\n",
    "        program.create_table(table_name=\"TrackPoint\")\n",
    "\n",
    "        \n",
    "    except Exception as e:\n",
    "        print(\"ERROR: Failed to use database:\", e)\n",
    "    finally:\n",
    "        if program:\n",
    "            program.connection.close_connection()\n",
    "\n",
    "if __name__ == '__main__':\n",
    "    main()"
   ]
  }
 ],
 "metadata": {
  "kernelspec": {
   "display_name": "Python 3",
   "language": "python",
   "name": "python3"
  },
  "language_info": {
   "codemirror_mode": {
    "name": "ipython",
    "version": 3
   },
   "file_extension": ".py",
   "mimetype": "text/x-python",
   "name": "python",
   "nbconvert_exporter": "python",
   "pygments_lexer": "ipython3",
   "version": "3.9.12"
  },
  "orig_nbformat": 4
 },
 "nbformat": 4,
 "nbformat_minor": 2
}
