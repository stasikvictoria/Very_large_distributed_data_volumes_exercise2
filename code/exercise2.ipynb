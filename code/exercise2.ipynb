{
 "cells": [
  {
   "cell_type": "markdown",
   "metadata": {},
   "source": [
    "# Installing requirements"
   ]
  },
  {
   "cell_type": "markdown",
   "metadata": {},
   "source": [
    "TEST"
   ]
  },
  {
   "cell_type": "code",
   "execution_count": 52,
   "metadata": {},
   "outputs": [],
   "source": [
    "import os\n",
    "#TEST"
   ]
  },
  {
   "cell_type": "code",
   "execution_count": 55,
   "metadata": {},
   "outputs": [
    {
     "data": {
      "text/plain": [
       "'/Users/victoriastasik/Documents/Very_large_distributed_data_volumes_exercise2'"
      ]
     },
     "execution_count": 55,
     "metadata": {},
     "output_type": "execute_result"
    }
   ],
   "source": [
    "os.getcwd()"
   ]
  },
  {
   "cell_type": "code",
   "execution_count": 56,
   "metadata": {},
   "outputs": [],
   "source": [
    "path = os.getcwd()\n",
    "os.chdir(path+\"/code\")"
   ]
  },
  {
   "cell_type": "code",
   "execution_count": 57,
   "metadata": {},
   "outputs": [
    {
     "data": {
      "text/plain": [
       "'/Users/victoriastasik/Documents/Very_large_distributed_data_volumes_exercise2/code'"
      ]
     },
     "execution_count": 57,
     "metadata": {},
     "output_type": "execute_result"
    }
   ],
   "source": [
    "os.getcwd()"
   ]
  },
  {
   "cell_type": "code",
   "execution_count": 58,
   "metadata": {},
   "outputs": [
    {
     "name": "stdout",
     "output_type": "stream",
     "text": [
      "Requirement already satisfied: haversine==2.8.0 in /Users/victoriastasik/opt/anaconda3/lib/python3.9/site-packages (from -r requirements.txt (line 1)) (2.8.0)\n",
      "Requirement already satisfied: mysql-connector-python==8.1.0 in /Users/victoriastasik/opt/anaconda3/lib/python3.9/site-packages (from -r requirements.txt (line 2)) (8.1.0)\n",
      "Requirement already satisfied: tabulate==0.9.0 in /Users/victoriastasik/opt/anaconda3/lib/python3.9/site-packages (from -r requirements.txt (line 3)) (0.9.0)\n",
      "Requirement already satisfied: protobuf<=4.21.12,>=4.21.1 in /Users/victoriastasik/opt/anaconda3/lib/python3.9/site-packages (from mysql-connector-python==8.1.0->-r requirements.txt (line 2)) (4.21.12)\n",
      "\n",
      "\u001b[1m[\u001b[0m\u001b[34;49mnotice\u001b[0m\u001b[1;39;49m]\u001b[0m\u001b[39;49m A new release of pip available: \u001b[0m\u001b[31;49m22.3\u001b[0m\u001b[39;49m -> \u001b[0m\u001b[32;49m23.2.1\u001b[0m\n",
      "\u001b[1m[\u001b[0m\u001b[34;49mnotice\u001b[0m\u001b[1;39;49m]\u001b[0m\u001b[39;49m To update, run: \u001b[0m\u001b[32;49mpip install --upgrade pip\u001b[0m\n",
      "Note: you may need to restart the kernel to use updated packages.\n"
     ]
    }
   ],
   "source": [
    "%pip install -r requirements.txt"
   ]
  },
  {
   "cell_type": "code",
   "execution_count": 59,
   "metadata": {},
   "outputs": [
    {
     "data": {
      "text/plain": [
       "'/Users/victoriastasik/Documents/Very_large_distributed_data_volumes_exercise2'"
      ]
     },
     "execution_count": 59,
     "metadata": {},
     "output_type": "execute_result"
    }
   ],
   "source": [
    "os.chdir(\"..\")\n",
    "os.getcwd()"
   ]
  },
  {
   "cell_type": "markdown",
   "metadata": {},
   "source": [
    "# Imports"
   ]
  },
  {
   "cell_type": "code",
   "execution_count": 60,
   "metadata": {},
   "outputs": [],
   "source": [
    "from tabulate import tabulate\n",
    "import mysql.connector as mysql"
   ]
  },
  {
   "cell_type": "markdown",
   "metadata": {},
   "source": [
    "# Class DBConnector"
   ]
  },
  {
   "cell_type": "code",
   "execution_count": 61,
   "metadata": {},
   "outputs": [],
   "source": [
    "class DbConnector:\n",
    "    \"\"\"\n",
    "    Connects to the MySQL server on the Ubuntu virtual machine.\n",
    "    Connector needs HOST, DATABASE, USER and PASSWORD to connect,\n",
    "    while PORT is optional and should be 3306.\n",
    "\n",
    "    Example:\n",
    "    HOST = \"tdt4225-00.idi.ntnu.no\" // Your server IP address/domain name\n",
    "    DATABASE = \"testdb\" // Database name, if you just want to connect to MySQL server, leave it empty\n",
    "    USER = \"testuser\" // This is the user you created and added privileges for\n",
    "    PASSWORD = \"test123\" // The password you set for said user\n",
    "    \"\"\"\n",
    "\n",
    "    def __init__(self,\n",
    "                 HOST=\"tdt4225-19.idi.ntnu.no\",\n",
    "                 DATABASE=\"test_19\",\n",
    "                 USER=\"team19\",\n",
    "                 PASSWORD=\"team19*\"):\n",
    "        # Connect to the database\n",
    "        try:\n",
    "            self.db_connection = mysql.connect(host=HOST, database=DATABASE, user=USER, password=PASSWORD, port=3306)\n",
    "        except Exception as e:\n",
    "            print(\"ERROR: Failed to connect to db:\", e)\n",
    "\n",
    "        # Get the db cursor\n",
    "        self.cursor = self.db_connection.cursor()\n",
    "\n",
    "        print(\"Connected to:\", self.db_connection.get_server_info())\n",
    "        # get database information\n",
    "        self.cursor.execute(\"select database();\")\n",
    "        database_name = self.cursor.fetchone()\n",
    "        print(\"You are connected to the database:\", database_name)\n",
    "        print(\"-----------------------------------------------\\n\")\n",
    "\n",
    "    def close_connection(self):\n",
    "        # close the cursor\n",
    "        self.cursor.close()\n",
    "        # close the DB connection\n",
    "        self.db_connection.close()\n",
    "        print(\"\\n-----------------------------------------------\")\n",
    "        print(\"Connection to %s is closed\" % self.db_connection.get_server_info())\n"
   ]
  },
  {
   "cell_type": "markdown",
   "metadata": {},
   "source": [
    "# Example program"
   ]
  },
  {
   "cell_type": "code",
   "execution_count": 85,
   "metadata": {},
   "outputs": [],
   "source": [
    "class ExampleProgram:\n",
    "\n",
    "    def __init__(self):\n",
    "        self.connection = DbConnector()\n",
    "        self.db_connection = self.connection.db_connection\n",
    "        self.cursor = self.connection.cursor\n",
    "\n",
    "    def create_table(self, table_name):\n",
    "        query = \"\"\"CREATE TABLE IF NOT EXISTS %s (\n",
    "                   id INT AUTO_INCREMENT NOT NULL PRIMARY KEY,\n",
    "                   name VARCHAR(30))\n",
    "                \"\"\"\n",
    "        # This adds table_name to the %s variable and executes the query\n",
    "        self.cursor.execute(query % table_name)\n",
    "        self.db_connection.commit()\n",
    "\n",
    "    def insert_data(self, table_name):\n",
    "        names = ['Bobby', 'Mc', 'McSmack', 'Board']\n",
    "        for name in names:\n",
    "            # Take note that the name is wrapped in '' --> '%s' because it is a string,\n",
    "            # while an int would be %s etc\n",
    "            query = \"INSERT INTO %s (name) VALUES ('%s')\"\n",
    "            self.cursor.execute(query % (table_name, name))\n",
    "        self.db_connection.commit()\n",
    "\n",
    "    def fetch_data(self, table_name):\n",
    "        query = \"SELECT * FROM %s\"\n",
    "        self.cursor.execute(query % table_name)\n",
    "        rows = self.cursor.fetchall()\n",
    "        print(\"Data from table %s, raw format:\" % table_name)\n",
    "        print(rows)\n",
    "        # Using tabulate to show the table in a nice way\n",
    "        print(\"Data from table %s, tabulated:\" % table_name)\n",
    "        print(tabulate(rows, headers=self.cursor.column_names))\n",
    "        return rows\n",
    "\n",
    "    def drop_table(self, table_name):\n",
    "        print(\"Dropping table %s...\" % table_name)\n",
    "        query = \"DROP TABLE %s\"\n",
    "        self.cursor.execute(query % table_name)\n",
    "\n",
    "    def show_tables(self):\n",
    "        self.cursor.execute(\"SHOW TABLES\")\n",
    "        rows = self.cursor.fetchall()\n",
    "        print(tabulate(rows, headers=self.cursor.column_names))\n",
    "\n",
    "\n",
    "def main():\n",
    "    program = None\n",
    "    try:\n",
    "        program = ExampleProgram()\n",
    "        program.create_table(table_name=\"Person\")\n",
    "        program.insert_data(table_name=\"Person\")\n",
    "        _ = program.fetch_data(table_name=\"Person\")\n",
    "        program.drop_table(table_name=\"Person\")\n",
    "        # Check that the table is dropped\n",
    "        program.show_tables()\n",
    "    except Exception as e:\n",
    "        print(\"ERROR: Failed to use database:\", e)\n",
    "    finally:\n",
    "        if program:\n",
    "            program.connection.close_connection()\n"
   ]
  },
  {
   "cell_type": "code",
   "execution_count": 86,
   "metadata": {},
   "outputs": [
    {
     "name": "stdout",
     "output_type": "stream",
     "text": [
      "Connected to: 8.0.34-0ubuntu0.22.04.1\n",
      "You are connected to the database: ('test_19',)\n",
      "-----------------------------------------------\n",
      "\n",
      "Data from table Person, raw format:\n",
      "[(1, 'Bobby'), (2, 'Mc'), (3, 'McSmack'), (4, 'Board')]\n",
      "Data from table Person, tabulated:\n",
      "  id  name\n",
      "----  -------\n",
      "   1  Bobby\n",
      "   2  Mc\n",
      "   3  McSmack\n",
      "   4  Board\n",
      "Dropping table Person...\n",
      "Tables_in_test_19\n",
      "-------------------\n",
      "Activity_s\n",
      "Activity_v\n",
      "TrackPoint_s\n",
      "TrackPoint_v\n",
      "User_s\n",
      "User_v\n",
      "\n",
      "-----------------------------------------------\n",
      "Connection to None is closed\n"
     ]
    }
   ],
   "source": [
    "if __name__ == '__main__':\n",
    "    main()"
   ]
  },
  {
   "cell_type": "markdown",
   "metadata": {},
   "source": [
    "# Task 1"
   ]
  },
  {
   "cell_type": "code",
   "execution_count": 89,
   "metadata": {},
   "outputs": [],
   "source": [
    "class Task1:\n",
    "\n",
    "    def __init__(self):\n",
    "        self.connection = DbConnector()\n",
    "        self.db_connection = self.connection.db_connection\n",
    "        self.cursor = self.connection.cursor\n",
    "\n",
    "\n",
    "    def create_table_user(self):\n",
    "        query = \"\"\"CREATE TABLE IF NOT EXISTS User_v (\n",
    "                    id INT PRIMARY KEY,\n",
    "                    has_labels BOOLEAN)\n",
    "                \"\"\"\n",
    "        # This adds table_name to the %s variable and executes the query\n",
    "        self.cursor.execute(query)\n",
    "        self.db_connection.commit()\n",
    "    \n",
    "\n",
    "    def create_table_activity(self):\n",
    "        query = \"\"\"CREATE TABLE IF NOT EXISTS %s (\n",
    "                   id INT AUTO_INCREMENT NOT NULL PRIMARY KEY,\n",
    "                   name VARCHAR(30))\n",
    "                \"\"\"\n",
    "        # This adds table_name to the %s variable and executes the query\n",
    "        self.cursor.execute(query % \"Activity_v\")\n",
    "        self.db_connection.commit()\n",
    "    \n",
    "\n",
    "    def create_table_trackpoint(self):\n",
    "        query = \"\"\"CREATE TABLE IF NOT EXISTS %s (\n",
    "                   id INT AUTO_INCREMENT NOT NULL PRIMARY KEY,\n",
    "                   name VARCHAR(30))\n",
    "                \"\"\"\n",
    "        # This adds table_name to the %s variable and executes the query\n",
    "        self.cursor.execute(query % \"TrackPoint_v\")\n",
    "        self.db_connection.commit()\n",
    "\n",
    "\n",
    "    def insert_data_user(self):\n",
    "        # we go to the Data directory\n",
    "        path = os.getcwd()\n",
    "        os.chdir(path+\"/dataset/dataset/Data\")\n",
    "\n",
    "        # we get the list of all the diferent directory names (users ids) and we sort the list\n",
    "        id =  os.listdir()\n",
    "        id.sort()\n",
    "\n",
    "        # we go back to the dataset directory and we read the labeled_ids.txt file\n",
    "        os.chdir(\"..\")\n",
    "        with open('labeled_ids.txt') as f:\n",
    "            labeled_ids = f.readlines()\n",
    "        f.close()\n",
    "        os.chdir(\"..\")\n",
    "        os.chdir(\"..\")\n",
    "        \n",
    "        # we delete the \\n in each string\n",
    "        for i in range (0, len(labeled_ids)):\n",
    "            labeled_ids[i] = labeled_ids[i].strip()\n",
    "\n",
    "        # we check if each user has a label or not and we save the info in a list\n",
    "        # the indexes of has_labels and id lists are correponding\n",
    "        has_labels = []\n",
    "        for i in id : \n",
    "            if i in labeled_ids : \n",
    "                has_labels.append(True)\n",
    "            else:\n",
    "                has_labels.append(False)\n",
    "\n",
    "        # we execute the query to insert the data\n",
    "        for i in range(len(id)):\n",
    "            query = \"INSERT INTO User_v (id, has_labels) VALUES (%s, %s)\"\n",
    "            values = (id[i], has_labels[i])\n",
    "            self.cursor.execute(query, values)\n",
    "\n",
    "        self.db_connection.commit()\n",
    "\n",
    "\n",
    "    def fetch_data(self, table_name):\n",
    "        query = \"SELECT * FROM %s\"\n",
    "        self.cursor.execute(query % table_name)\n",
    "        rows = self.cursor.fetchall()\n",
    "        print(\"Data from table %s, raw format:\" % table_name)\n",
    "        print(rows)\n",
    "        # Using tabulate to show the table in a nice way\n",
    "        print(\"Data from table %s, tabulated:\" % table_name)\n",
    "        print(tabulate(rows, headers=self.cursor.column_names))\n",
    "        return rows\n",
    "\n",
    "\n",
    "    def drop_table(self, table_name):\n",
    "        print(\"Dropping table %s...\" % table_name)\n",
    "        query = \"DROP TABLE %s\"\n",
    "        self.cursor.execute(query % table_name)\n",
    "\n",
    "\n",
    "    def show_tables(self):\n",
    "        self.cursor.execute(\"SHOW TABLES\")\n",
    "        rows = self.cursor.fetchall()\n",
    "        print(tabulate(rows, headers=self.cursor.column_names))\n"
   ]
  },
  {
   "cell_type": "code",
   "execution_count": 92,
   "metadata": {},
   "outputs": [
    {
     "name": "stdout",
     "output_type": "stream",
     "text": [
      "Connected to: 8.0.34-0ubuntu0.22.04.1\n",
      "You are connected to the database: ('test_19',)\n",
      "-----------------------------------------------\n",
      "\n",
      "Dropping table User_v...\n",
      "Data from table User_v, raw format:\n",
      "[(0, 0), (1, 0), (2, 0), (3, 0), (4, 0), (5, 0), (6, 0), (7, 0), (8, 0), (9, 0), (10, 1), (11, 0), (12, 0), (13, 0), (14, 0), (15, 0), (16, 0), (17, 0), (18, 0), (19, 0), (20, 1), (21, 1), (22, 0), (23, 0), (24, 0), (25, 0), (26, 0), (27, 0), (28, 0), (29, 0), (30, 0), (31, 0), (32, 0), (33, 0), (34, 0), (35, 0), (36, 0), (37, 0), (38, 0), (39, 0), (40, 0), (41, 0), (42, 0), (43, 0), (44, 0), (45, 0), (46, 0), (47, 0), (48, 0), (49, 0), (50, 0), (51, 0), (52, 1), (53, 1), (54, 0), (55, 0), (56, 1), (57, 0), (58, 1), (59, 1), (60, 1), (61, 0), (62, 1), (63, 0), (64, 1), (65, 1), (66, 0), (67, 1), (68, 1), (69, 1), (70, 0), (71, 0), (72, 0), (73, 1), (74, 0), (75, 1), (76, 1), (77, 0), (78, 1), (79, 0), (80, 1), (81, 1), (82, 1), (83, 0), (84, 1), (85, 1), (86, 1), (87, 1), (88, 1), (89, 1), (90, 0), (91, 1), (92, 1), (93, 0), (94, 0), (95, 0), (96, 1), (97, 1), (98, 1), (99, 0), (100, 1), (101, 1), (102, 1), (103, 0), (104, 1), (105, 1), (106, 1), (107, 1), (108, 1), (109, 0), (110, 1), (111, 1), (112, 1), (113, 0), (114, 1), (115, 1), (116, 1), (117, 1), (118, 1), (119, 0), (120, 0), (121, 0), (122, 0), (123, 0), (124, 1), (125, 1), (126, 1), (127, 0), (128, 1), (129, 1), (130, 0), (131, 0), (132, 0), (133, 0), (134, 0), (135, 0), (136, 1), (137, 0), (138, 1), (139, 1), (140, 0), (141, 1), (142, 0), (143, 0), (144, 1), (145, 0), (146, 0), (147, 1), (148, 0), (149, 0), (150, 0), (151, 0), (152, 0), (153, 1), (154, 1), (155, 0), (156, 0), (157, 0), (158, 0), (159, 0), (160, 0), (161, 1), (162, 0), (163, 1), (164, 0), (165, 0), (166, 0), (167, 1), (168, 0), (169, 0), (170, 1), (171, 0), (172, 0), (173, 0), (174, 1), (175, 1), (176, 0), (177, 0), (178, 0), (179, 1), (180, 0), (181, 0)]\n",
      "Data from table User_v, tabulated:\n",
      "  id    has_labels\n",
      "----  ------------\n",
      "   0             0\n",
      "   1             0\n",
      "   2             0\n",
      "   3             0\n",
      "   4             0\n",
      "   5             0\n",
      "   6             0\n",
      "   7             0\n",
      "   8             0\n",
      "   9             0\n",
      "  10             1\n",
      "  11             0\n",
      "  12             0\n",
      "  13             0\n",
      "  14             0\n",
      "  15             0\n",
      "  16             0\n",
      "  17             0\n",
      "  18             0\n",
      "  19             0\n",
      "  20             1\n",
      "  21             1\n",
      "  22             0\n",
      "  23             0\n",
      "  24             0\n",
      "  25             0\n",
      "  26             0\n",
      "  27             0\n",
      "  28             0\n",
      "  29             0\n",
      "  30             0\n",
      "  31             0\n",
      "  32             0\n",
      "  33             0\n",
      "  34             0\n",
      "  35             0\n",
      "  36             0\n",
      "  37             0\n",
      "  38             0\n",
      "  39             0\n",
      "  40             0\n",
      "  41             0\n",
      "  42             0\n",
      "  43             0\n",
      "  44             0\n",
      "  45             0\n",
      "  46             0\n",
      "  47             0\n",
      "  48             0\n",
      "  49             0\n",
      "  50             0\n",
      "  51             0\n",
      "  52             1\n",
      "  53             1\n",
      "  54             0\n",
      "  55             0\n",
      "  56             1\n",
      "  57             0\n",
      "  58             1\n",
      "  59             1\n",
      "  60             1\n",
      "  61             0\n",
      "  62             1\n",
      "  63             0\n",
      "  64             1\n",
      "  65             1\n",
      "  66             0\n",
      "  67             1\n",
      "  68             1\n",
      "  69             1\n",
      "  70             0\n",
      "  71             0\n",
      "  72             0\n",
      "  73             1\n",
      "  74             0\n",
      "  75             1\n",
      "  76             1\n",
      "  77             0\n",
      "  78             1\n",
      "  79             0\n",
      "  80             1\n",
      "  81             1\n",
      "  82             1\n",
      "  83             0\n",
      "  84             1\n",
      "  85             1\n",
      "  86             1\n",
      "  87             1\n",
      "  88             1\n",
      "  89             1\n",
      "  90             0\n",
      "  91             1\n",
      "  92             1\n",
      "  93             0\n",
      "  94             0\n",
      "  95             0\n",
      "  96             1\n",
      "  97             1\n",
      "  98             1\n",
      "  99             0\n",
      " 100             1\n",
      " 101             1\n",
      " 102             1\n",
      " 103             0\n",
      " 104             1\n",
      " 105             1\n",
      " 106             1\n",
      " 107             1\n",
      " 108             1\n",
      " 109             0\n",
      " 110             1\n",
      " 111             1\n",
      " 112             1\n",
      " 113             0\n",
      " 114             1\n",
      " 115             1\n",
      " 116             1\n",
      " 117             1\n",
      " 118             1\n",
      " 119             0\n",
      " 120             0\n",
      " 121             0\n",
      " 122             0\n",
      " 123             0\n",
      " 124             1\n",
      " 125             1\n",
      " 126             1\n",
      " 127             0\n",
      " 128             1\n",
      " 129             1\n",
      " 130             0\n",
      " 131             0\n",
      " 132             0\n",
      " 133             0\n",
      " 134             0\n",
      " 135             0\n",
      " 136             1\n",
      " 137             0\n",
      " 138             1\n",
      " 139             1\n",
      " 140             0\n",
      " 141             1\n",
      " 142             0\n",
      " 143             0\n",
      " 144             1\n",
      " 145             0\n",
      " 146             0\n",
      " 147             1\n",
      " 148             0\n",
      " 149             0\n",
      " 150             0\n",
      " 151             0\n",
      " 152             0\n",
      " 153             1\n",
      " 154             1\n",
      " 155             0\n",
      " 156             0\n",
      " 157             0\n",
      " 158             0\n",
      " 159             0\n",
      " 160             0\n",
      " 161             1\n",
      " 162             0\n",
      " 163             1\n",
      " 164             0\n",
      " 165             0\n",
      " 166             0\n",
      " 167             1\n",
      " 168             0\n",
      " 169             0\n",
      " 170             1\n",
      " 171             0\n",
      " 172             0\n",
      " 173             0\n",
      " 174             1\n",
      " 175             1\n",
      " 176             0\n",
      " 177             0\n",
      " 178             0\n",
      " 179             1\n",
      " 180             0\n",
      " 181             0\n",
      "\n",
      "-----------------------------------------------\n",
      "Connection to None is closed\n"
     ]
    }
   ],
   "source": [
    "def main():\n",
    "    program = None\n",
    "    try:\n",
    "        program = Task1()\n",
    "        program.drop_table(\"User_v\")\n",
    "        program.create_table_user()\n",
    "        program.insert_data_user()\n",
    "        program.fetch_data(\"User_v\")\n",
    "\n",
    "        \n",
    "    except Exception as e:\n",
    "        print(\"ERROR: Failed to use database:\", e)\n",
    "    finally:\n",
    "        if program:\n",
    "            program.connection.close_connection()\n",
    "\n",
    "if __name__ == '__main__':\n",
    "    main()"
   ]
  },
  {
   "cell_type": "code",
   "execution_count": 108,
   "metadata": {},
   "outputs": [
    {
     "data": {
      "text/plain": [
       "'/Users/victoriastasik/Documents/Very_large_distributed_data_volumes_exercise2'"
      ]
     },
     "execution_count": 108,
     "metadata": {},
     "output_type": "execute_result"
    }
   ],
   "source": [
    "os.chdir(\"..\")\n",
    "os.getcwd()"
   ]
  },
  {
   "cell_type": "code",
   "execution_count": 109,
   "metadata": {},
   "outputs": [],
   "source": [
    "path = os.getcwd()\n",
    "os.chdir(path+\"/dataset/dataset/Data\")"
   ]
  },
  {
   "cell_type": "code",
   "execution_count": 133,
   "metadata": {},
   "outputs": [],
   "source": [
    "from datetime import datetime\n",
    "user_id = []\n",
    "transportation_mode = []\n",
    "start_date_time = []\n",
    "end_date_time = []\n",
    "\n",
    "for dirpath, dirnames, filenames in os.walk(os.getcwd()):\n",
    "    for filename in filenames:\n",
    "        if filename.endswith('.txt'):\n",
    "            with open(os.path.join(dirpath, filename)) as f:\n",
    "                lines = f.readlines()\n",
    "                # skip the header\n",
    "                lines = lines[1:]\n",
    "                for line in lines:\n",
    "\n",
    "                    data = line.split()\n",
    "\n",
    "                    last_directory_name = os.path.basename(dirpath)\n",
    "                    user_id.append(last_directory_name)\n",
    "\n",
    "                    transportation_mode.append(data[4])\n",
    "\n",
    "                    start_date = data[0]\n",
    "                    start_time = data[1]\n",
    "                    end_date = data[2]\n",
    "                    end_time = data[3]\n",
    "                    start_datetime_str = start_date + \" \" + start_time\n",
    "                    end_datetime_str = end_date + \" \" + end_time\n",
    "                    combined_start_datetime = datetime.strptime(start_datetime_str, \"%Y/%m/%d %H:%M:%S\")\n",
    "                    combined_end_datetime = datetime.strptime(end_datetime_str, \"%Y/%m/%d %H:%M:%S\")\n",
    "\n",
    "                    start_date_time.append(combined_start_datetime)\n",
    "                    end_date_time.append(combined_end_datetime)\n",
    "            f.close()"
   ]
  },
  {
   "cell_type": "code",
   "execution_count": 136,
   "metadata": {},
   "outputs": [
    {
     "data": {
      "text/plain": [
       "14718"
      ]
     },
     "execution_count": 136,
     "metadata": {},
     "output_type": "execute_result"
    }
   ],
   "source": [
    "len(user_id)"
   ]
  },
  {
   "cell_type": "code",
   "execution_count": 137,
   "metadata": {},
   "outputs": [
    {
     "data": {
      "text/plain": [
       "14718"
      ]
     },
     "execution_count": 137,
     "metadata": {},
     "output_type": "execute_result"
    }
   ],
   "source": [
    "len(transportation_mode)"
   ]
  },
  {
   "cell_type": "code",
   "execution_count": 138,
   "metadata": {},
   "outputs": [
    {
     "data": {
      "text/plain": [
       "14718"
      ]
     },
     "execution_count": 138,
     "metadata": {},
     "output_type": "execute_result"
    }
   ],
   "source": [
    "len(start_date_time)"
   ]
  },
  {
   "cell_type": "code",
   "execution_count": null,
   "metadata": {},
   "outputs": [],
   "source": []
  }
 ],
 "metadata": {
  "kernelspec": {
   "display_name": "Python 3",
   "language": "python",
   "name": "python3"
  },
  "language_info": {
   "codemirror_mode": {
    "name": "ipython",
    "version": 3
   },
   "file_extension": ".py",
   "mimetype": "text/x-python",
   "name": "python",
   "nbconvert_exporter": "python",
   "pygments_lexer": "ipython3",
   "version": "3.9.12"
  },
  "orig_nbformat": 4
 },
 "nbformat": 4,
 "nbformat_minor": 2
}
